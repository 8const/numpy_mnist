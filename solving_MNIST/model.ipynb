{
 "cells": [
  {
   "cell_type": "code",
   "execution_count": 7,
   "metadata": {},
   "outputs": [],
   "source": [
    "import numpy as np\n",
    "import matplotlib.pyplot as plt"
   ]
  },
  {
   "cell_type": "markdown",
   "metadata": {},
   "source": [
    "# Stuff is used here is explained in draft.ipynb."
   ]
  },
  {
   "cell_type": "code",
   "execution_count": 8,
   "metadata": {},
   "outputs": [],
   "source": [
    "#gets MNIST;\n",
    "#i've stolen this function from George Hotz:\n",
    "#https://github.com/geohot/ai-notebooks/blob/master/mnist_from_scratch.ipynb\n",
    "\n",
    "def fetch(url):\n",
    "    import requests, gzip, os, hashlib, numpy\n",
    "    fp = os.path.join(\"/tmp\", hashlib.md5(url.encode('utf-8')).hexdigest())\n",
    "    if os.path.isfile(fp):\n",
    "        with open(fp, \"rb\") as f:\n",
    "            dat = f.read()\n",
    "    else:\n",
    "        with open(fp, \"wb\") as f:\n",
    "            dat = requests.get(url).content\n",
    "            f.write(dat)\n",
    "    return numpy.frombuffer(gzip.decompress(dat), dtype=np.uint8).copy()\n",
    "\n",
    "X_train = fetch(\"http://yann.lecun.com/exdb/mnist/train-images-idx3-ubyte.gz\")[0x10:].reshape((-1, 28, 28))\n",
    "Y_train = fetch(\"http://yann.lecun.com/exdb/mnist/train-labels-idx1-ubyte.gz\")[8:]\n",
    "X_test = fetch(\"http://yann.lecun.com/exdb/mnist/t10k-images-idx3-ubyte.gz\")[0x10:].reshape((-1, 28, 28))\n",
    "Y_test = fetch(\"http://yann.lecun.com/exdb/mnist/t10k-labels-idx1-ubyte.gz\")[8:]"
   ]
  },
  {
   "cell_type": "code",
   "execution_count": 16,
   "metadata": {},
   "outputs": [
    {
     "data": {
      "text/plain": [
       "<matplotlib.image.AxesImage at 0x7fbdf2e9e220>"
      ]
     },
     "execution_count": 16,
     "metadata": {},
     "output_type": "execute_result"
    },
    {
     "data": {
      "image/png": "[encoded data removed]",
      "text/plain": [
       "<Figure size 432x288 with 1 Axes>"
      ]
     },
     "metadata": {
      "needs_background": "light"
     },
     "output_type": "display_data"
    }
   ],
   "source": [
    "plt.imshow(X_test[256])"
   ]
  },
  {
   "cell_type": "code",
   "execution_count": null,
   "metadata": {},
   "outputs": [],
   "source": [
    "def unm(m, n):\n",
    "    matrix = np.random.uniform(-1, 1, size=(m,n))\n",
    "    return matrix / np.sqrt(m*n)\n",
    "\n",
    "relu = lambda x: np.maximum(x, 0.)\n",
    "\n",
    "def softmax(x):\n",
    "    exps = np.exp(x - np.max(x))\n",
    "    return exps / np.sum(exps)\n",
    "\n",
    "def matrix_softmax(m):\n",
    "    return np.apply_along_axis(softmax, 0, m)\n",
    "\n",
    "def dm(v):\n",
    "    l = len(v)\n",
    "    m = np.zeros([l, l])\n",
    "    np.fill_diagonal(m, v)\n",
    "    return m\n",
    "\n",
    "def grads(train, labels, W0, W1, b0, b1):\n",
    "    \n",
    "    x0 = train\n",
    "    x1 = x0 * W0 + b0\n",
    "    l1 = relu(x1)\n",
    "    x2 = W1 @ l1 + b1\n",
    "    l2 = softmax(x2)\n",
    "\n",
    "    dloss_dx2 = (l2 - labels).T\n",
    "    dx2_dl1 = W1\n",
    "    dl1_dx1 = dm(l1>0)\n",
    "    dx1_dW0 = W0\n",
    "    dx2_dW1 = (l1.T)\n",
    "    \n",
    "    dloss_dW0 = ((dx2_dl1.T @ dloss_dx2.T) @ l1.T) @  dx1_dW0\n",
    "    dloss_dW1 = dloss_dx2.T @ dx2_dW1\n",
    "    dloss_db0 = ((dloss_dx2 @ dx2_dl1 @ dl1_dx1).T).sum(axis=1).reshape(-1,1)\n",
    "    dloss_db1 = (dloss_dx2.T).sum(axis=1).reshape(-1,1)\n",
    "\n",
    "    return (dloss_dW0, dloss_dW1, dloss_db0, dloss_db1)"
   ]
  }
 ],
 "metadata": {
  "kernelspec": {
   "display_name": "Python 3",
   "language": "python",
   "name": "python3"
  },
  "language_info": {
   "codemirror_mode": {
    "name": "ipython",
    "version": 3
   },
   "file_extension": ".py",
   "mimetype": "text/x-python",
   "name": "python",
   "nbconvert_exporter": "python",
   "pygments_lexer": "ipython3",
   "version": "3.8.5"
  }
 },
 "nbformat": 4,
 "nbformat_minor": 4
}
