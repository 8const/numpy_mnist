{
 "cells": [
  {
   "cell_type": "markdown",
   "metadata": {},
   "source": [
    "# A small neural network that predicts whether float is > 0. Only using numpy & pyplot. Which is actually quite a lot. \n",
    "# I started from math on paper so a lot of stuff is inefficient. Like column vectors."
   ]
  },
  {
   "cell_type": "code",
   "execution_count": 5,
   "metadata": {},
   "outputs": [],
   "source": [
    "import numpy as np\n",
    "import matplotlib.pyplot as plt\n",
    "np.set_printoptions(suppress=True)"
   ]
  },
  {
   "cell_type": "markdown",
   "metadata": {},
   "source": [
    "# Let's define useful stuff & check it."
   ]
  },
  {
   "cell_type": "code",
   "execution_count": null,
   "metadata": {},
   "outputs": [],
   "source": [
    "#uniformly random normalised matrix for weights, biases & tests;\n",
    "#no longer normalised\n",
    "def unm(m, n):\n",
    "    matrix = np.random.uniform(-3, 3, size=(m,n))\n",
    "    return matrix #/ np.sqrt(m*n)"
   ]
  },
  {
   "cell_type": "code",
   "execution_count": null,
   "metadata": {
    "scrolled": true
   },
   "outputs": [],
   "source": [
    "plt.imshow(unm(8, 32))\n",
    "plt.show()"
   ]
  },
  {
   "cell_type": "code",
   "execution_count": 39,
   "metadata": {},
   "outputs": [
    {
     "data": {
      "image/png": "[encoded data removed]",
      "text/plain": [
       "<Figure size 432x288 with 1 Axes>"
      ]
     },
     "metadata": {
      "needs_background": "light"
     },
     "output_type": "display_data"
    }
   ],
   "source": [
    "#for hidden layer activation\n",
    "relu = lambda x: np.maximum(x, 0.)\n",
    "\n",
    "x = np.linspace(-1, 1, 64)\n",
    "plt.plot(x, relu(x))\n",
    "plt.show()"
   ]
  },
  {
   "cell_type": "code",
   "execution_count": 40,
   "metadata": {},
   "outputs": [],
   "source": [
    "#for last layer activation\n",
    "def softmax(x):\n",
    "    exps = np.exp(x - np.max(x))\n",
    "    return exps / np.sum(exps)"
   ]
  },
  {
   "cell_type": "code",
   "execution_count": null,
   "metadata": {
    "scrolled": false
   },
   "outputs": [],
   "source": [
    "x = unm(8, 1)\n",
    "plt.imshow(x.T)\n",
    "plt.show()\n",
    "\n",
    "plt.imshow(softmax(x.T))\n",
    "plt.show()\n",
    "\n",
    "#it's good if sum is ~1.0;\n",
    "print(\"sum(softmax(x)) = \", float(sum(softmax(x))))\n",
    "print(\"nice!\")"
   ]
  },
  {
   "cell_type": "code",
   "execution_count": 42,
   "metadata": {
    "scrolled": true
   },
   "outputs": [],
   "source": [
    "#so it would work well with a whole batch\n",
    "def matrix_softmax(m):\n",
    "    return np.apply_along_axis(softmax, 0, m)\n"
   ]
  },
  {
   "cell_type": "code",
   "execution_count": 102,
   "metadata": {},
   "outputs": [
    {
     "data": {
      "image/png": "[encoded data removed]",
      "text/plain": [
       "<Figure size 432x288 with 2 Axes>"
      ]
     },
     "metadata": {
      "needs_background": "light"
     },
     "output_type": "display_data"
    }
   ],
   "source": [
    "#returns diagonal matrix with entries from column vector v;\n",
    "#there's actually no need to do this;\n",
    "def dm(v):\n",
    "    l = len(v)\n",
    "    m = np.zeros([l, l])\n",
    "    np.fill_diagonal(m, v)\n",
    "    return m\n",
    "\n",
    "v = m(8,1)\n",
    "plt.subplot(1,2,1)\n",
    "plt.imshow(v)\n",
    "plt.subplot(1,2,2)\n",
    "plt.imshow(dm(v))\n",
    "plt.tight_layout()"
   ]
  },
  {
   "cell_type": "markdown",
   "metadata": {},
   "source": [
    "# Stuff's ready - let's do a draft."
   ]
  },
  {
   "cell_type": "code",
   "execution_count": null,
   "metadata": {},
   "outputs": [],
   "source": [
    "#random weight & biases\n",
    "W0 = unm(8, 1)\n",
    "b0 = unm(8, 1)\n",
    "W1 = unm(2, 8)\n",
    "b1 = unm(2, 1)\n",
    "\n",
    "\n",
    "#layers are x before activation and l after\n",
    "#input = x0\n",
    "x0 = np.array([[0.5],[5],[3]]).T\n",
    "\n",
    "#hidden layer\n",
    "x1 = x0 * W0 + b0\n",
    "l1 = relu(x1)\n",
    "\n",
    "#l2 is output\n",
    "x2 = W1 @ l1 + b1\n",
    "l2 = softmax(x2)\n",
    "\n",
    "#jacobians for computing 4 useful gradients;\n",
    "dloss_dx2 = (l2 - np.zeros(l2.shape)).T\n",
    "dx2_dl1 = W1\n",
    "dl1_dx1 = dm(l1>0)\n",
    "dx1_dW0 = x0\n",
    "dx2_dW1 = (l1.T)\n",
    "\n",
    "#chain rule;\n",
    "#these 4 will be used in SGD;\n",
    "#but like any enterprise, when under a new management, \n",
    "#there's always a slight duplication of efforts;\n",
    "dloss_dW0 = ((dloss_dx2 @ dx2_dl1) @ dl1_dx1).T @ dx1_dW0.T\n",
    "dloss_dW1 = dloss_dx2.T @ dx2_dW1\n",
    "dloss_db0 = ((dloss_dx2 @ dx2_dl1 @ dl1_dx1).T).sum(axis=1).reshape(-1,1)\n",
    "dloss_db1 = (dloss_dx2.T).sum(axis=1).reshape(-1,1)\n",
    "\n",
    "#seems to work!\n",
    "print(\"Shapes work?\")\n",
    "\n",
    "print(\"W1\", W1.shape)\n",
    "print(\"dloss_dW1\", dloss_dW1.shape)\n",
    "\n",
    "print(\"W0\", W0.shape)\n",
    "print(\"dloss_dW0\", dloss_dW0.shape)\n",
    "\n",
    "print(\"b0\", b0.shape)\n",
    "print(\"dloss_db0\", dloss_db0.shape)\n",
    "\n",
    "print(\"b1\", b1.shape)\n",
    "print(\"dloss_db1\", dloss_db1.shape)"
   ]
  },
  {
   "cell_type": "code",
   "execution_count": null,
   "metadata": {},
   "outputs": [],
   "source": [
    "dx2_dl1.shape"
   ]
  },
  {
   "cell_type": "markdown",
   "metadata": {},
   "source": [
    "# Let's write a function that returns gradients."
   ]
  },
  {
   "cell_type": "code",
   "execution_count": null,
   "metadata": {},
   "outputs": [],
   "source": [
    "def grads(train, labels, W0, W1, b0, b1):\n",
    "    \n",
    "    '''\n",
    "    -> dloss_dW0, dloss_dW1, dloss_db0, dloss_db1\n",
    "    \n",
    "    The vagones of the row vector train (np.array) are floats.\n",
    "    Each one of them is a training example. \n",
    "    And has a corresponding lable in labels.\n",
    "    In my particular case each lables[i] is a column [1, 0] if train[i] > 0,\n",
    "    and a column [0, 1] otherwise.\n",
    "    The length of train is the batch size.\n",
    "    W & b are weights & biases.\n",
    "    Returns gradients of W & b.\n",
    "    '''\n",
    "    x0 = train\n",
    "    x1 = W0 @ x0 + b0\n",
    "    l1 = relu(x1)\n",
    "\n",
    "    x2 = W1 @ l1 + b1\n",
    "    l2 = softmax(x2)\n",
    "\n",
    "    dloss_dx2 = (l2 - labels).T\n",
    "    \n",
    "    dx2_dl1 = W1\n",
    "    dl1_dx1 = dm(l1>0)\n",
    "    dx1_dW0 = x0\n",
    "    dx2_dW1 = (l1.T)\n",
    "    \n",
    "    dloss_dW0 = ((dloss_dx2 @ dx2_dl1) @ dl1_dx1).T @ dx1_dW0.T\n",
    "    dloss_dW1 = dloss_dx2.T @ dx2_dW1\n",
    "    dloss_db0 = ((dloss_dx2 @ dx2_dl1 @ dl1_dx1).T).sum(axis=1).reshape(-1,1)\n",
    "    dloss_db1 = (dloss_dx2.T).sum(axis=1).reshape(-1,1)\n",
    "\n",
    "    return (dloss_dW0, dloss_dW1, dloss_db0, dloss_db1)"
   ]
  },
  {
   "cell_type": "code",
   "execution_count": null,
   "metadata": {},
   "outputs": [],
   "source": [
    "#generate smol data;\n",
    "small_train = unm(1, 10)\n",
    "small_lables = np.array([np.array([1, 0]) if el > 0 else np.array([0, 1]) for el in small_train[0]]).T"
   ]
  },
  {
   "cell_type": "code",
   "execution_count": null,
   "metadata": {
    "scrolled": false
   },
   "outputs": [],
   "source": [
    "#let's check how reasonable the lables are;\n",
    "#we don't do these things because they are easy;\n",
    "#we choose to go to the moon because it's hard;\n",
    "\n",
    "plt.imshow(small_train)\n",
    "plt.axis('off')\n",
    "print(\"Train:\")\n",
    "plt.show()\n",
    "\n",
    "plt.axis('off')\n",
    "check_lables = np.array([(small_lables.T[i][0] == 1) + 0. for i in range(10)])\n",
    "plt.imshow(check_lables.reshape(1, 10))\n",
    "print(\"Lables:\")\n",
    "plt.show()\n",
    "\n",
    "print(\"Very nice!\\nWe get pure hot, where it used to be hotter than 0.\\nAnd super chill, where it used to be < 0.\")"
   ]
  },
  {
   "cell_type": "code",
   "execution_count": null,
   "metadata": {},
   "outputs": [],
   "source": [
    "W0 = unm(8, 1)\n",
    "b0 = unm(8, 1)\n",
    "W1 = unm(2, 8)\n",
    "b1 = unm(2, 1)\n",
    "\n",
    "grads(small_train, small_lables, W0, W1, b0, b1)"
   ]
  },
  {
   "cell_type": "code",
   "execution_count": null,
   "metadata": {},
   "outputs": [],
   "source": [
    "#generating a lot of data\n",
    "def data(bs):\n",
    "    small_train = unm(1, bs)\n",
    "    small_lables = np.array([np.array([1, 0]) if el > 0 else np.array([0, 1]) for el in small_train[0]]).T\n",
    "    return (small_train, small_lables)"
   ]
  },
  {
   "cell_type": "markdown",
   "metadata": {},
   "source": [
    "# We are ready for training!"
   ]
  },
  {
   "cell_type": "code",
   "execution_count": null,
   "metadata": {},
   "outputs": [],
   "source": [
    "#let's do data for 5 epoches with 256 batch size\n",
    "examples = [data(256) for _ in range(5)]"
   ]
  },
  {
   "cell_type": "code",
   "execution_count": null,
   "metadata": {
    "scrolled": true
   },
   "outputs": [],
   "source": [
    "#random initial parameters\n",
    "W0 = unm(8, 1)\n",
    "b0 = unm(8, 1)\n",
    "W1 = unm(2, 8)\n",
    "b1 = unm(2, 1)\n",
    "\n",
    "#training loop\n",
    "lr = 0.01\n",
    "for batch in examples:\n",
    "    x, y = batch\n",
    "    #SGD\n",
    "    dloss_dW0, dloss_dW1, dloss_db0, dloss_db1 = grads(x, y, W0, W1, b0, b1)\n",
    "    W0 = W0 - dloss_dW0 * lr\n",
    "    W1 = W1 - dloss_dW1 * lr\n",
    "    b0 = b0 - dloss_db0 *  lr\n",
    "    b1 = b1 - dloss_db1 * lr"
   ]
  },
  {
   "cell_type": "code",
   "execution_count": null,
   "metadata": {
    "scrolled": true
   },
   "outputs": [],
   "source": [
    "sign = lambda x: x > 0 + 0.0\n",
    "def pred(x0):\n",
    "    print(x0.shape)\n",
    "    x1 = W0 @ x0 + b0\n",
    "    l1 = relu(x1)\n",
    "    x2 = W1 @ l1 + b1\n",
    "    l2 = matrix_softmax(x2)\n",
    "    plt.plot(x0.T, 'go')\n",
    "    plt.plot([round((l2.T)[i][0], 4) for i in range(x0.shape[1])], 'ro')\n",
    "    plt.plot([0 for _ in range(x0.shape[1])], 'k')\n",
    "    plt.plot(sign(x0.T), 'b')\n",
    "    plt.show()\n",
    "    \n",
    "pred(data(32)[0])"
   ]
  },
  {
   "cell_type": "code",
   "execution_count": null,
   "metadata": {},
   "outputs": [],
   "source": [
    "data(16)[0].shape"
   ]
  },
  {
   "cell_type": "code",
   "execution_count": null,
   "metadata": {},
   "outputs": [],
   "source": [
    "x0 = unm(2,2)\n",
    "x1 = W0 @ x0 + b0\n",
    "l1 = relu(x1)\n",
    "x2 = W1 @ l1 + b1\n",
    "l2 = matrix_softmax(x2)"
   ]
  },
  {
   "cell_type": "code",
   "execution_count": null,
   "metadata": {},
   "outputs": [],
   "source": [
    "def m(m, n):\n",
    "    matrix = np.random.uniform(-1, 1, size=(m,n))\n",
    "    return matrix / np.sqrt(m*n)\n"
   ]
  },
  {
   "cell_type": "code",
   "execution_count": null,
   "metadata": {
    "scrolled": true
   },
   "outputs": [],
   "source": [
    "W0 = m(128, 784)\n",
    "b0 = m(128, 1)\n",
    "W1 = m(10, 128)\n",
    "b1 = m(10, 1)\n",
    "\n",
    "x0 = np.array([m(784, 1), m(784, 1)]).T[0]\n",
    "x1 = W0 @ x0\n",
    "l1 = relu(x1)\n",
    "\n",
    "x2 = W1 @ l1 + b1\n",
    "l2 = matrix_softmax(x2)\n",
    "l2.shape"
   ]
  },
  {
   "cell_type": "code",
   "execution_count": null,
   "metadata": {},
   "outputs": [],
   "source": [
    "x2"
   ]
  },
  {
   "cell_type": "code",
   "execution_count": null,
   "metadata": {},
   "outputs": [],
   "source": []
  },
  {
   "cell_type": "code",
   "execution_count": null,
   "metadata": {},
   "outputs": [],
   "source": [
    "def fetch(url):\n",
    "    import requests, gzip, os, hashlib, numpy\n",
    "    fp = os.path.join(\"/tmp\", hashlib.md5(url.encode('utf-8')).hexdigest())\n",
    "    if os.path.isfile(fp):\n",
    "        with open(fp, \"rb\") as f:\n",
    "            dat = f.read()\n",
    "    else:\n",
    "        with open(fp, \"wb\") as f:\n",
    "            dat = requests.get(url).content\n",
    "            f.write(dat)\n",
    "    return numpy.frombuffer(gzip.decompress(dat), dtype=np.uint8).copy()\n",
    "\n",
    "X_train = fetch(\"http://yann.lecun.com/exdb/mnist/train-images-idx3-ubyte.gz\")[0x10:].reshape((-1, 28, 28))\n",
    "Y_train = fetch(\"http://yann.lecun.com/exdb/mnist/train-labels-idx1-ubyte.gz\")[8:]\n",
    "X_test = fetch(\"http://yann.lecun.com/exdb/mnist/t10k-images-idx3-ubyte.gz\")[0x10:].reshape((-1, 28, 28))\n",
    "Y_test = fetch(\"http://yann.lecun.com/exdb/mnist/t10k-labels-idx1-ubyte.gz\")[8:]"
   ]
  },
  {
   "cell_type": "code",
   "execution_count": null,
   "metadata": {},
   "outputs": [],
   "source": [
    "plt.imshow(X_train[0])"
   ]
  },
  {
   "cell_type": "code",
   "execution_count": null,
   "metadata": {},
   "outputs": [],
   "source": [
    "Y_train[0]"
   ]
  },
  {
   "cell_type": "code",
   "execution_count": null,
   "metadata": {},
   "outputs": [],
   "source": [
    "#f :: Y_train -> matrix with shape (10, batch_size)\n",
    "#filled with 0 and 1\n",
    "#each column vector has 1 in the position of Y_train[i] else 0"
   ]
  },
  {
   "cell_type": "code",
   "execution_count": null,
   "metadata": {},
   "outputs": [],
   "source": [
    "def row(n):\n",
    "    return [1 if i == n else 0 for i in range(10)]"
   ]
  },
  {
   "cell_type": "code",
   "execution_count": null,
   "metadata": {},
   "outputs": [],
   "source": [
    "np.array([row(2), row(4)]).T"
   ]
  },
  {
   "cell_type": "code",
   "execution_count": null,
   "metadata": {},
   "outputs": [],
   "source": [
    "y = Y_train[: 4] \n",
    "y"
   ]
  },
  {
   "cell_type": "code",
   "execution_count": null,
   "metadata": {},
   "outputs": [],
   "source": [
    "y = np.array([row(i) for i in Y_train])"
   ]
  },
  {
   "cell_type": "code",
   "execution_count": null,
   "metadata": {},
   "outputs": [],
   "source": [
    "y[:3].T"
   ]
  },
  {
   "cell_type": "code",
   "execution_count": null,
   "metadata": {},
   "outputs": [],
   "source": [
    "x = np.array([m.reshape(-1, 1) for m in X_train])\n",
    "x[:3].T.shape"
   ]
  },
  {
   "cell_type": "code",
   "execution_count": null,
   "metadata": {},
   "outputs": [],
   "source": [
    "plt.imshow(x[5].reshape(28,28))"
   ]
  },
  {
   "cell_type": "code",
   "execution_count": null,
   "metadata": {},
   "outputs": [],
   "source": [
    "for el in x[:6]:\n",
    "    plt.imshow(el.reshape(28,28))\n",
    "    plt.show()"
   ]
  },
  {
   "cell_type": "code",
   "execution_count": null,
   "metadata": {},
   "outputs": [],
   "source": [
    "# get a batch of x_train :: x -> bs -> i -> [column array of column vectors]\n",
    "\n",
    "def get_x(x, bs, i):\n",
    "    return x[bs*i : bs*(i+1)]\n",
    "\n",
    "def get_y(y, bs, i):\n",
    "    return y[bs*i : bs*(i+1)].T"
   ]
  },
  {
   "cell_type": "code",
   "execution_count": null,
   "metadata": {
    "scrolled": true
   },
   "outputs": [],
   "source": [
    "get_y(y, 2, 1)"
   ]
  },
  {
   "cell_type": "code",
   "execution_count": null,
   "metadata": {},
   "outputs": [],
   "source": [
    "for el in get_x(x, 2, 1):\n",
    "    plt.imshow(el.reshape(28,28))\n",
    "    plt.show()"
   ]
  },
  {
   "cell_type": "code",
   "execution_count": null,
   "metadata": {},
   "outputs": [],
   "source": [
    "def grads(train, labels, W0, W1, b0, b1):\n",
    "\n",
    "    x0 = train\n",
    "    x1 = W0 @ x0 + b0\n",
    "    l1 = relu(x1)\n",
    "\n",
    "    x2 = W1 @ l1 + b1\n",
    "    l2 = softmax(x2)\n",
    "\n",
    "    dloss_dx2 = (l2 - labels).T\n",
    "    \n",
    "    dx2_dl1 = W1\n",
    "    dl1_dx1 = dm(l1>0)\n",
    "    dx1_dW0 = x0\n",
    "    dx2_dW1 = (l1.T)\n",
    "    \n",
    "    dloss_dW0 = ((dloss_dx2 @ dx2_dl1) @ dl1_dx1).T @ dx1_dW0.T\n",
    "    dloss_dW1 = dloss_dx2.T @ dx2_dW1\n",
    "    dloss_db0 = ((dloss_dx2 @ dx2_dl1 @ dl1_dx1).T).sum(axis=1).reshape(-1,1)\n",
    "    dloss_db1 = (dloss_dx2.T).sum(axis=1).reshape(-1,1)\n",
    "\n",
    "    return (dloss_dW0, dloss_dW1, dloss_db0, dloss_db1)\n",
    "\n",
    "\n",
    "bs = 256\n",
    "\n",
    "W0 = m(128, 784)\n",
    "print(\"!!\",W0.sum())\n",
    "b0 = m(128, 1)\n",
    "W1 = m(10, 128)\n",
    "b1 = m(10, 1)\n",
    "#training loop\n",
    "\n",
    "lr = 0.01\n",
    "for i in range(30):\n",
    "    x_train, y_train = (get_x(x, bs, i).T[0] / (get_x(x, bs, i).T[0].sum())), get_y(y, bs, i)\n",
    "    #SGD\n",
    "    \n",
    "    #print(\"==\",W0.sum())\n",
    "    \n",
    "    dloss_dW0, dloss_dW1, dloss_db0, dloss_db1 = grads(x_train, y_train, W0, W1, b0, b1)\n",
    "    print(\" \")\n",
    "    #print( dloss_dW0.sum())\n",
    "    print((dloss_dx2))\n",
    "\n",
    "    W0 = W0 - dloss_dW0 * lr\n",
    "    W1 = W1 - dloss_dW1 * lr\n",
    "    b0 = b0 - dloss_db0 * lr\n",
    "    b1 = b1 - dloss_db1 * lr"
   ]
  },
  {
   "cell_type": "code",
   "execution_count": null,
   "metadata": {
    "scrolled": false
   },
   "outputs": [],
   "source": [
    "W0.sum()"
   ]
  },
  {
   "cell_type": "code",
   "execution_count": null,
   "metadata": {},
   "outputs": [],
   "source": [
    "x0 = get_x(x, 1, 1).T[0]/(get_x(x, 1, 1).T[0].sum())\n",
    "x1 = W0 @ x0 + b0\n",
    "l1 = relu(x1)\n",
    "x2 = W1 @ l1 + b1\n",
    "l2 = matrix_softmax(x2)\n"
   ]
  },
  {
   "cell_type": "code",
   "execution_count": null,
   "metadata": {},
   "outputs": [],
   "source": [
    "sum([a for a in W0[0]])"
   ]
  },
  {
   "cell_type": "code",
   "execution_count": null,
   "metadata": {},
   "outputs": [],
   "source": [
    "def predMNIST(x0):\n",
    "    x1 = W0 @ x0 + b0\n",
    "    l1 = relu(x1)\n",
    "    x2 = W1 @ l1 + b1\n",
    "    l2 = matrix_softmax(x2)\n",
    "    return l2    "
   ]
  },
  {
   "cell_type": "code",
   "execution_count": null,
   "metadata": {},
   "outputs": [],
   "source": [
    "plt.plot( range(10),predMNIST(X_train[8].reshape(-1, 1)) )"
   ]
  },
  {
   "cell_type": "code",
   "execution_count": null,
   "metadata": {},
   "outputs": [],
   "source": [
    "( get_x(x, bs, i).T[0] / (get_x(x, bs, i).T[0].sum())).sum()"
   ]
  },
  {
   "cell_type": "code",
   "execution_count": null,
   "metadata": {},
   "outputs": [],
   "source": [
    "plt.imshow(X_train[7])"
   ]
  },
  {
   "cell_type": "code",
   "execution_count": null,
   "metadata": {},
   "outputs": [],
   "source": []
  },
  {
   "cell_type": "code",
   "execution_count": null,
   "metadata": {},
   "outputs": [],
   "source": [
    "matrix_softmax(z)"
   ]
  },
  {
   "cell_type": "code",
   "execution_count": null,
   "metadata": {},
   "outputs": [],
   "source": [
    "z[0][0] = 100"
   ]
  },
  {
   "cell_type": "code",
   "execution_count": null,
   "metadata": {},
   "outputs": [],
   "source": [
    "z"
   ]
  },
  {
   "cell_type": "code",
   "execution_count": null,
   "metadata": {},
   "outputs": [],
   "source": [
    "matrix_softmax(z)"
   ]
  },
  {
   "cell_type": "code",
   "execution_count": null,
   "metadata": {},
   "outputs": [],
   "source": [
    "np.set_printoptions(suppress=True)\n",
    "x0 = X_train[0].reshape(-1,1).astype(np.float64)\n",
    "x1 = W0 @ x0 + b0\n",
    "print(type(x1[0][0]))\n",
    "l1 = relu(x1)\n",
    "x2 = W1 @ l1 + b1\n",
    "print(np.around(x2))\n",
    "l2 = matrix_softmax(x2)\n",
    "print(x0)"
   ]
  },
  {
   "cell_type": "code",
   "execution_count": null,
   "metadata": {},
   "outputs": [],
   "source": [
    "x0.astype(np.float64)[185]"
   ]
  },
  {
   "cell_type": "code",
   "execution_count": null,
   "metadata": {},
   "outputs": [],
   "source": [
    "(np.around(np.array([0.7])))"
   ]
  },
  {
   "cell_type": "code",
   "execution_count": null,
   "metadata": {},
   "outputs": [],
   "source": [
    "type(x0[0][0])"
   ]
  },
  {
   "cell_type": "code",
   "execution_count": null,
   "metadata": {},
   "outputs": [],
   "source": [
    "q = np.array([253]).astype(np.float64)\n",
    "p = np.array([0.01]).astype(np.float64)"
   ]
  },
  {
   "cell_type": "code",
   "execution_count": null,
   "metadata": {},
   "outputs": [],
   "source": [
    "q * p"
   ]
  },
  {
   "cell_type": "code",
   "execution_count": null,
   "metadata": {},
   "outputs": [],
   "source": [
    "W0 @ x0"
   ]
  },
  {
   "cell_type": "code",
   "execution_count": null,
   "metadata": {},
   "outputs": [],
   "source": [
    "sum(sum(W0 - o))"
   ]
  },
  {
   "cell_type": "code",
   "execution_count": null,
   "metadata": {},
   "outputs": [],
   "source": [
    "x0"
   ]
  },
  {
   "cell_type": "code",
   "execution_count": null,
   "metadata": {},
   "outputs": [],
   "source": [
    "(W0 @ x0)"
   ]
  },
  {
   "cell_type": "code",
   "execution_count": null,
   "metadata": {},
   "outputs": [],
   "source": [
    "W0.shape"
   ]
  },
  {
   "cell_type": "code",
   "execution_count": null,
   "metadata": {},
   "outputs": [],
   "source": [
    "W0.T.shape"
   ]
  },
  {
   "cell_type": "code",
   "execution_count": null,
   "metadata": {},
   "outputs": [],
   "source": [
    "W0 @ W0.T"
   ]
  },
  {
   "cell_type": "code",
   "execution_count": null,
   "metadata": {},
   "outputs": [],
   "source": [
    "n = 784\n",
    "b = 128\n",
    "o = m(128, 784)\n",
    "o @ X_train[0].reshape(-1,1)"
   ]
  },
  {
   "cell_type": "code",
   "execution_count": null,
   "metadata": {},
   "outputs": [],
   "source": [
    "W0 @ W0.T"
   ]
  },
  {
   "cell_type": "code",
   "execution_count": null,
   "metadata": {},
   "outputs": [],
   "source": [
    "W0 @ X_train[0].reshape(-1,1)"
   ]
  },
  {
   "cell_type": "code",
   "execution_count": null,
   "metadata": {},
   "outputs": [],
   "source": [
    "o @ x0"
   ]
  },
  {
   "cell_type": "code",
   "execution_count": null,
   "metadata": {},
   "outputs": [],
   "source": [
    "get_x(x, 2, 1).T[0].sum()"
   ]
  },
  {
   "cell_type": "code",
   "execution_count": null,
   "metadata": {},
   "outputs": [],
   "source": [
    "sum(get_x(x, bs, i).T[0])"
   ]
  },
  {
   "cell_type": "code",
   "execution_count": null,
   "metadata": {},
   "outputs": [],
   "source": [
    "q = m(2,2)\n",
    "q"
   ]
  },
  {
   "cell_type": "code",
   "execution_count": null,
   "metadata": {},
   "outputs": [],
   "source": [
    "q.sum()"
   ]
  },
  {
   "cell_type": "code",
   "execution_count": null,
   "metadata": {},
   "outputs": [],
   "source": [
    "W0 = m(128, 784)\n",
    "b0 = m(128, 1)\n",
    "W1 = m(10, 128)\n",
    "b1 = m(10, 1)\n",
    "\n",
    "\n",
    "#layers are x before activation and l after\n",
    "#input = x0\n",
    "x0 = get_x(x, 1, 1).T[0]/(get_x(x, 1, 1).T[0].sum())\n",
    "#hidden layer\n",
    "x1 = W0 @ x0 + b0\n",
    "l1 = relu(x1)\n",
    "\n",
    "#l2 is output\n",
    "x2 = W1 @ l1 + b1\n",
    "l2 = softmax(x2)\n",
    "\n",
    "#jacobians for computing 4 useful gradients;\n",
    "dloss_dx2 = (l2 - get_y(y, 1, 1)).T\n",
    "dx2_dl1 = W1\n",
    "dl1_dx1 = dm(l1>0)\n",
    "dx1_dW0 = x0\n",
    "dx2_dW1 = (l1.T)\n",
    "\n",
    "#chain rule;\n",
    "#these 4 will be used in SGD;\n",
    "#but like any enterprise, when under a new management, \n",
    "#there's always a slight duplication of efforts;\n",
    "dloss_dW0 = ((dloss_dx2 @ dx2_dl1) @ dl1_dx1).T @ dx1_dW0.T\n",
    "dloss_dW1 = dloss_dx2.T @ dx2_dW1\n",
    "dloss_db0 = ((dloss_dx2 @ dx2_dl1 @ dl1_dx1).T).sum(axis=1).reshape(-1,1)\n",
    "dloss_db1 = (dloss_dx2.T).sum(axis=1).reshape(-1,1)\n",
    "\n"
   ]
  },
  {
   "cell_type": "code",
   "execution_count": null,
   "metadata": {},
   "outputs": [],
   "source": [
    "plt.imshow(x0.reshape(28,28))"
   ]
  },
  {
   "cell_type": "code",
   "execution_count": null,
   "metadata": {},
   "outputs": [],
   "source": [
    "W0.sum()"
   ]
  },
  {
   "cell_type": "code",
   "execution_count": null,
   "metadata": {},
   "outputs": [],
   "source": [
    "dloss_dx2"
   ]
  },
  {
   "cell_type": "code",
   "execution_count": null,
   "metadata": {},
   "outputs": [],
   "source": [
    "plt.imshow(dloss_dW0)"
   ]
  },
  {
   "cell_type": "code",
   "execution_count": null,
   "metadata": {},
   "outputs": [],
   "source": [
    "plt.imshow(W0)"
   ]
  },
  {
   "cell_type": "code",
   "execution_count": null,
   "metadata": {},
   "outputs": [],
   "source": [
    "matrix_softmax(x2)"
   ]
  },
  {
   "cell_type": "code",
   "execution_count": null,
   "metadata": {},
   "outputs": [],
   "source": [
    "dloss_db1.sum()"
   ]
  },
  {
   "cell_type": "code",
   "execution_count": null,
   "metadata": {},
   "outputs": [],
   "source": [
    "get_y(y, 1, 1)"
   ]
  },
  {
   "cell_type": "code",
   "execution_count": null,
   "metadata": {},
   "outputs": [],
   "source": []
  },
  {
   "cell_type": "code",
   "execution_count": null,
   "metadata": {},
   "outputs": [],
   "source": []
  },
  {
   "cell_type": "code",
   "execution_count": null,
   "metadata": {},
   "outputs": [],
   "source": []
  },
  {
   "cell_type": "code",
   "execution_count": null,
   "metadata": {},
   "outputs": [],
   "source": []
  },
  {
   "cell_type": "code",
   "execution_count": null,
   "metadata": {},
   "outputs": [],
   "source": []
  },
  {
   "cell_type": "code",
   "execution_count": null,
   "metadata": {},
   "outputs": [],
   "source": []
  },
  {
   "cell_type": "code",
   "execution_count": 335,
   "metadata": {},
   "outputs": [],
   "source": [
    "def m(m, n):\n",
    "    matrix = np.random.uniform(-2, 2, size=(m,n))\n",
    "    return matrix / np.sqrt(m*n)"
   ]
  },
  {
   "cell_type": "code",
   "execution_count": 15,
   "metadata": {},
   "outputs": [],
   "source": [
    "x = m(1000, 1000)"
   ]
  },
  {
   "cell_type": "code",
   "execution_count": 19,
   "metadata": {},
   "outputs": [
    {
     "data": {
      "text/plain": [
       "<matplotlib.image.AxesImage at 0x7fc1b72dd5b0>"
      ]
     },
     "execution_count": 19,
     "metadata": {},
     "output_type": "execute_result"
    },
    {
     "data": {
      "image/png": "[encoded data removed]",
      "text/plain": [
       "<Figure size 432x288 with 1 Axes>"
      ]
     },
     "metadata": {
      "needs_background": "light"
     },
     "output_type": "display_data"
    }
   ],
   "source": [
    "plt.imshow(x)"
   ]
  },
  {
   "cell_type": "code",
   "execution_count": 20,
   "metadata": {},
   "outputs": [],
   "source": [
    "def fetch(url):\n",
    "    import requests, gzip, os, hashlib, numpy\n",
    "    fp = os.path.join(\"/tmp\", hashlib.md5(url.encode('utf-8')).hexdigest())\n",
    "    if os.path.isfile(fp):\n",
    "        with open(fp, \"rb\") as f:\n",
    "            dat = f.read()\n",
    "    else:\n",
    "        with open(fp, \"wb\") as f:\n",
    "            dat = requests.get(url).content\n",
    "            f.write(dat)\n",
    "    return numpy.frombuffer(gzip.decompress(dat), dtype=np.uint8).copy()\n",
    "\n",
    "X_train = fetch(\"http://yann.lecun.com/exdb/mnist/train-images-idx3-ubyte.gz\")[0x10:].reshape((-1, 28, 28))\n",
    "Y_train = fetch(\"http://yann.lecun.com/exdb/mnist/train-labels-idx1-ubyte.gz\")[8:]\n",
    "X_test = fetch(\"http://yann.lecun.com/exdb/mnist/t10k-images-idx3-ubyte.gz\")[0x10:].reshape((-1, 28, 28))\n",
    "Y_test = fetch(\"http://yann.lecun.com/exdb/mnist/t10k-labels-idx1-ubyte.gz\")[8:]\n",
    "\n",
    "def row(n):\n",
    "    return [1 if i == n else 0 for i in range(10)]\n",
    "\n",
    "\n",
    "def get_x(x, bs, i):\n",
    "    return x[bs*i : bs*(i+1)]\n",
    "\n",
    "def get_y(y, bs, i):\n",
    "    return y[bs*i : bs*(i+1)].T"
   ]
  },
  {
   "cell_type": "code",
   "execution_count": 298,
   "metadata": {},
   "outputs": [],
   "source": [
    "y = np.array([row(i) for i in Y_train])"
   ]
  },
  {
   "cell_type": "code",
   "execution_count": 299,
   "metadata": {},
   "outputs": [
    {
     "data": {
      "text/plain": [
       "array([[[0.],\n",
       "        [0.],\n",
       "        [0.],\n",
       "        ...,\n",
       "        [0.],\n",
       "        [0.],\n",
       "        [0.]],\n",
       "\n",
       "       [[0.],\n",
       "        [0.],\n",
       "        [0.],\n",
       "        ...,\n",
       "        [0.],\n",
       "        [0.],\n",
       "        [0.]],\n",
       "\n",
       "       [[0.],\n",
       "        [0.],\n",
       "        [0.],\n",
       "        ...,\n",
       "        [0.],\n",
       "        [0.],\n",
       "        [0.]],\n",
       "\n",
       "       ...,\n",
       "\n",
       "       [[0.],\n",
       "        [0.],\n",
       "        [0.],\n",
       "        ...,\n",
       "        [0.],\n",
       "        [0.],\n",
       "        [0.]],\n",
       "\n",
       "       [[0.],\n",
       "        [0.],\n",
       "        [0.],\n",
       "        ...,\n",
       "        [0.],\n",
       "        [0.],\n",
       "        [0.]],\n",
       "\n",
       "       [[0.],\n",
       "        [0.],\n",
       "        [0.],\n",
       "        ...,\n",
       "        [0.],\n",
       "        [0.],\n",
       "        [0.]]])"
      ]
     },
     "execution_count": 299,
     "metadata": {},
     "output_type": "execute_result"
    }
   ],
   "source": [
    "y = np.array([row(i) for i in Y_train])\n",
    "x = np.array([m.reshape(-1, 1) for m in X_train])\n",
    "x = x / 255 \n",
    "x"
   ]
  },
  {
   "cell_type": "code",
   "execution_count": 27,
   "metadata": {
    "scrolled": true
   },
   "outputs": [
    {
     "data": {
      "text/plain": [
       "array([[0, 1],\n",
       "       [0, 0],\n",
       "       [0, 0],\n",
       "       [0, 0],\n",
       "       [0, 0],\n",
       "       [1, 0],\n",
       "       [0, 0],\n",
       "       [0, 0],\n",
       "       [0, 0],\n",
       "       [0, 0]])"
      ]
     },
     "execution_count": 27,
     "metadata": {},
     "output_type": "execute_result"
    }
   ],
   "source": [
    "y[0:2].T"
   ]
  },
  {
   "cell_type": "code",
   "execution_count": 24,
   "metadata": {},
   "outputs": [
    {
     "data": {
      "text/plain": [
       "5"
      ]
     },
     "execution_count": 24,
     "metadata": {},
     "output_type": "execute_result"
    }
   ],
   "source": [
    "Y_train[0]"
   ]
  },
  {
   "cell_type": "code",
   "execution_count": 37,
   "metadata": {},
   "outputs": [
    {
     "data": {
      "text/plain": [
       "<matplotlib.image.AxesImage at 0x7fc1aeb533d0>"
      ]
     },
     "execution_count": 37,
     "metadata": {},
     "output_type": "execute_result"
    },
    {
     "data": {
      "image/png": "[encoded data removed]",
      "text/plain": [
       "<Figure size 432x288 with 1 Axes>"
      ]
     },
     "metadata": {
      "needs_background": "light"
     },
     "output_type": "display_data"
    }
   ],
   "source": [
    "plt.imshow(x[0].reshape(28,28))"
   ]
  },
  {
   "cell_type": "code",
   "execution_count": 31,
   "metadata": {},
   "outputs": [],
   "source": [
    "bx = get_x(x, 3, 0)"
   ]
  },
  {
   "cell_type": "code",
   "execution_count": 33,
   "metadata": {},
   "outputs": [
    {
     "data": {
      "image/png": "[encoded data removed]",
      "text/plain": [
       "<Figure size 432x288 with 1 Axes>"
      ]
     },
     "metadata": {
      "needs_background": "light"
     },
     "output_type": "display_data"
    },
    {
     "data": {
      "image/png": "[encoded data removed]",
      "text/plain": [
       "<Figure size 432x288 with 1 Axes>"
      ]
     },
     "metadata": {
      "needs_background": "light"
     },
     "output_type": "display_data"
    },
    {
     "data": {
      "image/png": "[encoded data removed]",
      "text/plain": [
       "<Figure size 432x288 with 1 Axes>"
      ]
     },
     "metadata": {
      "needs_background": "light"
     },
     "output_type": "display_data"
    }
   ],
   "source": [
    "for el in bx:\n",
    "    plt.imshow(el.reshape(28,28))   \n",
    "    plt.show()"
   ]
  },
  {
   "cell_type": "code",
   "execution_count": null,
   "metadata": {},
   "outputs": [],
   "source": []
  },
  {
   "cell_type": "code",
   "execution_count": 148,
   "metadata": {},
   "outputs": [
    {
     "data": {
      "text/plain": [
       "array([[0.10111221, 0.1012886 ],\n",
       "       [0.08516528, 0.0852786 ],\n",
       "       [0.08223943, 0.08240594],\n",
       "       [0.12172736, 0.12150413],\n",
       "       [0.13592951, 0.13581713],\n",
       "       [0.09284048, 0.09252703],\n",
       "       [0.07508904, 0.07551775],\n",
       "       [0.13318721, 0.13312881],\n",
       "       [0.07805567, 0.07804568],\n",
       "       [0.09465383, 0.09448633]])"
      ]
     },
     "execution_count": 148,
     "metadata": {},
     "output_type": "execute_result"
    }
   ],
   "source": [
    "W0 = m(128, 784)\n",
    "b0 = m(128, 1)\n",
    "W1 = m(10, 128)\n",
    "b1 = m(10, 1)\n",
    "\n",
    "\n",
    "#layers are x before activation and l after\n",
    "#input = x0\n",
    "x0 = get_x(x, 2, 1).T\n",
    "#hidden layer\n",
    "x1 = W0 @ x0 + b0\n",
    "l1 = relu(x1)\n",
    "\n",
    "#l2 is output\n",
    "x2 = W1 @ l1 + b1\n",
    "l2 = matrix_softmax(x2[0])\n",
    "l2"
   ]
  },
  {
   "cell_type": "code",
   "execution_count": 174,
   "metadata": {},
   "outputs": [
    {
     "name": "stdout",
     "output_type": "stream",
     "text": [
      "(10, 128) = (10, 2) (2, 128)\n"
     ]
    }
   ],
   "source": [
    "#jacobians for computing 4 useful gradients;\n",
    "dloss_dx2 = (l2 - get_y(y, 2, 1)).T\n",
    "dx2_dl1 = W1\n",
    "#print(l1[0].shape)\n",
    "dl1_dx1 = dm(l1>0)\n",
    "dx1_dW0 = x0[0]\n",
    "dx2_dW1 = (l1[0].T)\n",
    "\n",
    "#chain rule;\n",
    "#these 4 will be used in SGD;\n",
    "#but like any enterprise, when under a new management, \n",
    "#there's always a slight duplication of efforts;\n",
    "#print(W0.shape ,\"=\", dloss_dx2.shape , dx2_dl1.shape , dl1_dx1.T.shape , dx1_dW0.T.shape)\n",
    "\n",
    "dloss_dW0 = ((dloss_dx2 @ dx2_dl1) * ((l1[0]>0) + 0.).T ).T @ dx1_dW0.T\n",
    "print(W1.shape ,\"=\", dloss_dx2.T.shape , dx2_dW1.shape)\n",
    "dloss_dW1 = dloss_dx2.T @ dx2_dW1\n",
    "dloss_db0 = ((dloss_dx2 @ dx2_dl1 * (l1[0]>0).T  )).sum(axis=0).reshape(-1,1)\n",
    "dloss_db1 = (dloss_dx2.T).sum(axis=1).reshape(-1,1)"
   ]
  },
  {
   "cell_type": "code",
   "execution_count": 175,
   "metadata": {},
   "outputs": [
    {
     "data": {
      "text/plain": [
       "(128, 1)"
      ]
     },
     "execution_count": 175,
     "metadata": {},
     "output_type": "execute_result"
    }
   ],
   "source": [
    "dloss_db0.shape"
   ]
  },
  {
   "cell_type": "code",
   "execution_count": null,
   "metadata": {},
   "outputs": [],
   "source": []
  },
  {
   "cell_type": "code",
   "execution_count": 177,
   "metadata": {},
   "outputs": [],
   "source": [
    "#get_x(x, 2, 1).T = trsain\n",
    "#labels  = get_y(y, 2, 1)\n",
    "\n",
    "def grads(train, labels, W0, W1, b0, b1):\n",
    "\n",
    "    x0 = train\n",
    "    #hidden layer\n",
    "    x1 = W0 @ x0 + b0\n",
    "    l1 = relu(x1)\n",
    "\n",
    "    #l2 is output\n",
    "    x2 = W1 @ l1 + b1\n",
    "    l2 = matrix_softmax(x2[0])\n",
    "\n",
    "\n",
    "    dloss_dx2 = (l2 - labels).T\n",
    "    dx2_dl1 = W1\n",
    "    dl1_dx1 = dm(l1>0)\n",
    "    dx1_dW0 = x0[0]\n",
    "    dx2_dW1 = (l1[0].T)\n",
    "\n",
    " \n",
    "    dloss_dW0 = ((dloss_dx2 @ dx2_dl1) * ((l1[0]>0) + 0.).T ).T @ dx1_dW0.T\n",
    "    dloss_dW1 = dloss_dx2.T @ dx2_dW1\n",
    "    dloss_db0 = ((dloss_dx2 @ dx2_dl1 * (l1[0]>0).T  )).sum(axis=0).reshape(-1,1)\n",
    "    dloss_db1 = (dloss_dx2.T).sum(axis=1).reshape(-1,1)\n",
    "    return (dloss_dW0, dloss_dW1, dloss_db0, dloss_db1)\n"
   ]
  },
  {
   "cell_type": "code",
   "execution_count": 92,
   "metadata": {},
   "outputs": [
    {
     "name": "stdout",
     "output_type": "stream",
     "text": [
      "[[0.17088752 0.16029788 0.06147485]\n",
      " [0.09572262 0.39873579 0.13425215]]\n"
     ]
    },
    {
     "data": {
      "text/plain": [
       "array([[0.51878238, 0.44067134, 0.4818137 ],\n",
       "       [0.48121762, 0.55932866, 0.5181863 ]])"
      ]
     },
     "execution_count": 92,
     "metadata": {},
     "output_type": "execute_result"
    }
   ],
   "source": [
    "#so it would work well with a whole batch\n",
    "def matrix_softmax(m):\n",
    "    return np.apply_along_axis(softmax, 0, m)\n",
    "\n",
    "t = np.abs(m(2,3))\n",
    "print(t)\n",
    "matrix_softmax(t)"
   ]
  },
  {
   "cell_type": "code",
   "execution_count": 313,
   "metadata": {},
   "outputs": [
    {
     "data": {
      "text/plain": [
       "234.375"
      ]
     },
     "execution_count": 313,
     "metadata": {},
     "output_type": "execute_result"
    }
   ],
   "source": [
    "60000/256"
   ]
  },
  {
   "cell_type": "code",
   "execution_count": 350,
   "metadata": {},
   "outputs": [
    {
     "data": {
      "text/plain": [
       "0.9508"
      ]
     },
     "execution_count": 350,
     "metadata": {},
     "output_type": "execute_result"
    }
   ],
   "source": [
    "#4096 is way too much but I wanted > 95% accuracy\n",
    "\n",
    "W0 = m(4096, 784)\n",
    "b0 = m(4096, 1)\n",
    "W1 = m(10, 4096)\n",
    "b1 = m(10, 1)\n",
    "\n",
    "lr = 0.0045\n",
    "for i in range(230):\n",
    "    x_train = get_x(x, 256, i).T\n",
    "    y_train = get_y(y, 256, i)\n",
    "    \n",
    "    dloss_dW0, dloss_dW1, dloss_db0, dloss_db1 = grads(x_train, y_train, W0, W1, b0, b1)\n",
    "\n",
    "    W0 = W0 - dloss_dW0 * lr\n",
    "    W1 = W1 - dloss_dW1 * lr\n",
    "    b0 = b0 - dloss_db0 * lr\n",
    "    b1 = b1 - dloss_db1 * lr\n",
    "    \n",
    "yt = np.array([row(i) for i in Y_test])\n",
    "xt = np.array([m.reshape(-1, 1) for m in X_test])\n",
    "xt = xt / 255 \n",
    "\n",
    "#extremly moronic way of calculating accuracy\n",
    "#exists solely for historical reasons\n",
    "w = 10000\n",
    "s = sum([(i != 0) + 0 for i in np.array(p(get_x(xt, w, 0).T)) - np.array([np.argmax(v) for v in get_y(yt, w, 0).T])])\n",
    "\n",
    "1-s/w"
   ]
  },
  {
   "cell_type": "code",
   "execution_count": 243,
   "metadata": {},
   "outputs": [
    {
     "data": {
      "text/plain": [
       "array([[0. , 0. , 0. , 0. ],\n",
       "       [0. , 0. , 0.9, 0. ],\n",
       "       [0. , 0.8, 0. , 0.1],\n",
       "       [0. , 0. , 0. , 0.8],\n",
       "       [0.1, 0. , 0. , 0. ],\n",
       "       [0. , 0. , 0. , 0. ],\n",
       "       [0. , 0. , 0. , 0. ],\n",
       "       [0.5, 0.1, 0. , 0. ],\n",
       "       [0. , 0. , 0. , 0.1],\n",
       "       [0.3, 0. , 0. , 0. ]])"
      ]
     },
     "execution_count": 243,
     "metadata": {},
     "output_type": "execute_result"
    }
   ],
   "source": [
    "x0 = get_x(x, 4, 1).T\n",
    "#hidden layer\n",
    "x1 = W0 @ x0 + b0\n",
    "l1 = relu(x1)\n",
    "\n",
    "#l2 is output\n",
    "x2 = W1 @ l1 + b1\n",
    "l2 = matrix_softmax(x2[0])\n",
    "np.around(l2, 1)"
   ]
  },
  {
   "cell_type": "code",
   "execution_count": 244,
   "metadata": {},
   "outputs": [
    {
     "data": {
      "image/png": "[encoded data removed]",
      "text/plain": [
       "<Figure size 432x288 with 1 Axes>"
      ]
     },
     "metadata": {
      "needs_background": "light"
     },
     "output_type": "display_data"
    },
    {
     "data": {
      "image/png": "[encoded data removed]",
      "text/plain": [
       "<Figure size 432x288 with 1 Axes>"
      ]
     },
     "metadata": {
      "needs_background": "light"
     },
     "output_type": "display_data"
    },
    {
     "data": {
      "image/png": "[encoded data removed]",
      "text/plain": [
       "<Figure size 432x288 with 1 Axes>"
      ]
     },
     "metadata": {
      "needs_background": "light"
     },
     "output_type": "display_data"
    },
    {
     "data": {
      "image/png": "[encoded data removed]",
      "text/plain": [
       "<Figure size 432x288 with 1 Axes>"
      ]
     },
     "metadata": {
      "needs_background": "light"
     },
     "output_type": "display_data"
    }
   ],
   "source": [
    "for el in x0.T:\n",
    "    plt.imshow(el.reshape(28,28))   \n",
    "    plt.show()"
   ]
  },
  {
   "cell_type": "code",
   "execution_count": 208,
   "metadata": {},
   "outputs": [],
   "source": [
    "# x0 = get_x(x, 4, 1).T\n",
    "def p(x0):    \n",
    " \n",
    "    #hidden layer\n",
    "    x1 = W0 @ x0 + b0\n",
    "    l1 = relu(x1)\n",
    "\n",
    "    #l2 is output\n",
    "    x2 = W1 @ l1 + b1\n",
    "    l2 = matrix_softmax(x2[0])\n",
    "    return ([np.argmax(q) for q in l2.T])"
   ]
  },
  {
   "cell_type": "code",
   "execution_count": 251,
   "metadata": {},
   "outputs": [
    {
     "data": {
      "text/plain": [
       "[8, 7, 1, 7, 1, 1, 6, 3, 0, 6]"
      ]
     },
     "execution_count": 251,
     "metadata": {},
     "output_type": "execute_result"
    }
   ],
   "source": [
    "p(get_x(x, 10, 10).T)"
   ]
  },
  {
   "cell_type": "code",
   "execution_count": 252,
   "metadata": {},
   "outputs": [
    {
     "data": {
      "text/plain": [
       "[5, 7, 1, 7, 1, 1, 6, 3, 0, 2]"
      ]
     },
     "execution_count": 252,
     "metadata": {},
     "output_type": "execute_result"
    }
   ],
   "source": [
    "[np.argmax(v) for v in get_y(y, 10, 10).T]"
   ]
  },
  {
   "cell_type": "code",
   "execution_count": 255,
   "metadata": {},
   "outputs": [
    {
     "data": {
      "text/plain": [
       "array([3, 0, 0, 0, 0, 0, 0, 0, 0, 4])"
      ]
     },
     "execution_count": 255,
     "metadata": {},
     "output_type": "execute_result"
    }
   ],
   "source": [
    "np.array(p(get_x(x, 10, 10).T)) - np.array([np.argmax(v) for v in get_y(y, 10, 10).T])"
   ]
  },
  {
   "cell_type": "code",
   "execution_count": 265,
   "metadata": {},
   "outputs": [
    {
     "data": {
      "text/plain": [
       "342"
      ]
     },
     "execution_count": 265,
     "metadata": {},
     "output_type": "execute_result"
    }
   ],
   "source": [
    "y = np.array([row(i) for i in Y_test])\n",
    "x = np.array([m.reshape(-1, 1) for m in X_test])\n",
    "x = x / 255 \n",
    "\n",
    "w = 1000\n",
    "sum([(i != 0) + 0 for i in np.array(p(get_x(x, w, 0).T)) - np.array([np.argmax(v) for v in get_y(y, w, 0).T])])"
   ]
  },
  {
   "cell_type": "code",
   "execution_count": 286,
   "metadata": {},
   "outputs": [],
   "source": [
    "def predict(x0):    \n",
    "    x = x0.reshape(-1,1)\n",
    "    #hidden layer\n",
    "    x1 = W0 @ x + b0\n",
    "    l1 = relu(x1)\n",
    "\n",
    "    #l2 is output\n",
    "    x2 = W1 @ l1 + b1\n",
    "    l2 = softmax(x2)\n",
    "    print(np.argmax(l2))\n",
    "    plt.imshow(x0)\n",
    "    plt.show()"
   ]
  },
  {
   "cell_type": "code",
   "execution_count": 290,
   "metadata": {},
   "outputs": [
    {
     "name": "stdout",
     "output_type": "stream",
     "text": [
      "7\n"
     ]
    },
    {
     "data": {
      "image/png": "[encoded data removed]",
      "text/plain": [
       "<Figure size 432x288 with 1 Axes>"
      ]
     },
     "metadata": {
      "needs_background": "light"
     },
     "output_type": "display_data"
    },
    {
     "name": "stdout",
     "output_type": "stream",
     "text": [
      "2\n"
     ]
    },
    {
     "data": {
      "image/png": "[encoded data removed]",
      "text/plain": [
       "<Figure size 432x288 with 1 Axes>"
      ]
     },
     "metadata": {
      "needs_background": "light"
     },
     "output_type": "display_data"
    },
    {
     "name": "stdout",
     "output_type": "stream",
     "text": [
      "1\n"
     ]
    },
    {
     "data": {
      "image/png": "[encoded data removed]",
      "text/plain": [
       "<Figure size 432x288 with 1 Axes>"
      ]
     },
     "metadata": {
      "needs_background": "light"
     },
     "output_type": "display_data"
    },
    {
     "name": "stdout",
     "output_type": "stream",
     "text": [
      "0\n"
     ]
    },
    {
     "data": {
      "image/png": "[encoded data removed]",
      "text/plain": [
       "<Figure size 432x288 with 1 Axes>"
      ]
     },
     "metadata": {
      "needs_background": "light"
     },
     "output_type": "display_data"
    },
    {
     "name": "stdout",
     "output_type": "stream",
     "text": [
      "4\n"
     ]
    },
    {
     "data": {
      "image/png": "[encoded data removed]",
      "text/plain": [
       "<Figure size 432x288 with 1 Axes>"
      ]
     },
     "metadata": {
      "needs_background": "light"
     },
     "output_type": "display_data"
    },
    {
     "name": "stdout",
     "output_type": "stream",
     "text": [
      "1\n"
     ]
    },
    {
     "data": {
      "image/png": "[encoded data removed]",
      "text/plain": [
       "<Figure size 432x288 with 1 Axes>"
      ]
     },
     "metadata": {
      "needs_background": "light"
     },
     "output_type": "display_data"
    },
    {
     "name": "stdout",
     "output_type": "stream",
     "text": [
      "7\n"
     ]
    },
    {
     "data": {
      "image/png": "[encoded data removed]",
      "text/plain": [
       "<Figure size 432x288 with 1 Axes>"
      ]
     },
     "metadata": {
      "needs_background": "light"
     },
     "output_type": "display_data"
    },
    {
     "name": "stdout",
     "output_type": "stream",
     "text": [
      "9\n"
     ]
    },
    {
     "data": {
      "image/png": "[encoded data removed]",
      "text/plain": [
       "<Figure size 432x288 with 1 Axes>"
      ]
     },
     "metadata": {
      "needs_background": "light"
     },
     "output_type": "display_data"
    },
    {
     "name": "stdout",
     "output_type": "stream",
     "text": [
      "2\n"
     ]
    },
    {
     "data": {
      "image/png": "[encoded data removed]",
      "text/plain": [
       "<Figure size 432x288 with 1 Axes>"
      ]
     },
     "metadata": {
      "needs_background": "light"
     },
     "output_type": "display_data"
    },
    {
     "name": "stdout",
     "output_type": "stream",
     "text": [
      "7\n"
     ]
    },
    {
     "data": {
      "image/png": "[encoded data removed]",
      "text/plain": [
       "<Figure size 432x288 with 1 Axes>"
      ]
     },
     "metadata": {
      "needs_background": "light"
     },
     "output_type": "display_data"
    },
    {
     "name": "stdout",
     "output_type": "stream",
     "text": [
      "0\n"
     ]
    },
    {
     "data": {
      "image/png": "[encoded data removed]",
      "text/plain": [
       "<Figure size 432x288 with 1 Axes>"
      ]
     },
     "metadata": {
      "needs_background": "light"
     },
     "output_type": "display_data"
    },
    {
     "name": "stdout",
     "output_type": "stream",
     "text": [
      "2\n"
     ]
    },
    {
     "data": {
      "image/png": "[encoded data removed]",
      "text/plain": [
       "<Figure size 432x288 with 1 Axes>"
      ]
     },
     "metadata": {
      "needs_background": "light"
     },
     "output_type": "display_data"
    },
    {
     "name": "stdout",
     "output_type": "stream",
     "text": [
      "7\n"
     ]
    },
    {
     "data": {
      "image/png": "[encoded data removed]",
      "text/plain": [
       "<Figure size 432x288 with 1 Axes>"
      ]
     },
     "metadata": {
      "needs_background": "light"
     },
     "output_type": "display_data"
    },
    {
     "name": "stdout",
     "output_type": "stream",
     "text": [
      "0\n"
     ]
    },
    {
     "data": {
      "image/png": "[encoded data removed]",
      "text/plain": [
       "<Figure size 432x288 with 1 Axes>"
      ]
     },
     "metadata": {
      "needs_background": "light"
     },
     "output_type": "display_data"
    },
    {
     "name": "stdout",
     "output_type": "stream",
     "text": [
      "1\n"
     ]
    },
    {
     "data": {
      "image/png": "[encoded data removed]",
      "text/plain": [
       "<Figure size 432x288 with 1 Axes>"
      ]
     },
     "metadata": {
      "needs_background": "light"
     },
     "output_type": "display_data"
    },
    {
     "name": "stdout",
     "output_type": "stream",
     "text": [
      "3\n"
     ]
    },
    {
     "data": {
      "image/png": "[encoded data removed]",
      "text/plain": [
       "<Figure size 432x288 with 1 Axes>"
      ]
     },
     "metadata": {
      "needs_background": "light"
     },
     "output_type": "display_data"
    },
    {
     "name": "stdout",
     "output_type": "stream",
     "text": [
      "7\n"
     ]
    },
    {
     "data": {
      "image/png": "[encoded data removed]",
      "text/plain": [
       "<Figure size 432x288 with 1 Axes>"
      ]
     },
     "metadata": {
      "needs_background": "light"
     },
     "output_type": "display_data"
    },
    {
     "name": "stdout",
     "output_type": "stream",
     "text": [
      "7\n"
     ]
    },
    {
     "data": {
      "image/png": "[encoded data removed]",
      "text/plain": [
       "<Figure size 432x288 with 1 Axes>"
      ]
     },
     "metadata": {
      "needs_background": "light"
     },
     "output_type": "display_data"
    },
    {
     "name": "stdout",
     "output_type": "stream",
     "text": [
      "2\n"
     ]
    },
    {
     "data": {
      "image/png": "[encoded data removed]",
      "text/plain": [
       "<Figure size 432x288 with 1 Axes>"
      ]
     },
     "metadata": {
      "needs_background": "light"
     },
     "output_type": "display_data"
    },
    {
     "name": "stdout",
     "output_type": "stream",
     "text": [
      "4\n"
     ]
    },
    {
     "data": {
      "image/png": "[encoded data removed]",
      "text/plain": [
       "<Figure size 432x288 with 1 Axes>"
      ]
     },
     "metadata": {
      "needs_background": "light"
     },
     "output_type": "display_data"
    }
   ],
   "source": [
    "for i in range(20):\n",
    "    predict(X_test[i])"
   ]
  },
  {
   "cell_type": "code",
   "execution_count": null,
   "metadata": {},
   "outputs": [],
   "source": []
  }
 ],
 "metadata": {
  "kernelspec": {
   "display_name": "Python 3",
   "language": "python",
   "name": "python3"
  },
  "language_info": {
   "codemirror_mode": {
    "name": "ipython",
    "version": 3
   },
   "file_extension": ".py",
   "mimetype": "text/x-python",
   "name": "python",
   "nbconvert_exporter": "python",
   "pygments_lexer": "ipython3",
   "version": "3.8.5"
  }
 },
 "nbformat": 4,
 "nbformat_minor": 4
}
