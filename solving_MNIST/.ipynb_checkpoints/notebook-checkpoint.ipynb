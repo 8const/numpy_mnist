{
 "cells": [
  {
   "cell_type": "markdown",
   "metadata": {},
   "source": [
    "# MNIST solved at > 95% with numpy.\n",
    "# I started from math on paper so a lot of stuff is inefficient."
   ]
  },
  {
   "cell_type": "code",
   "execution_count": 374,
   "metadata": {},
   "outputs": [],
   "source": [
    "import numpy as np\n",
    "from matplotlib.pyplot import imshow\n",
    "from matplotlib.pyplot import plot\n",
    "from matplotlib.pyplot import show"
   ]
  },
  {
   "cell_type": "markdown",
   "metadata": {},
   "source": [
    "# Let's define useful stuff & check it."
   ]
  },
  {
   "cell_type": "code",
   "execution_count": 375,
   "metadata": {},
   "outputs": [
    {
     "data": {
      "text/plain": [
       "<matplotlib.image.AxesImage at 0x7fc1aeaf3a30>"
      ]
     },
     "execution_count": 375,
     "metadata": {},
     "output_type": "execute_result"
    },
    {
     "data": {
      "image/png": "[encoded data removed]",
      "text/plain": [
       "<Figure size 432x288 with 1 Axes>"
      ]
     },
     "metadata": {
      "needs_background": "light"
     },
     "output_type": "display_data"
    }
   ],
   "source": [
    "#random matrix for weights & biases;\n",
    "def m(m, n):\n",
    "    matrix = np.random.uniform(-2, 2, size=(m,n))\n",
    "    return matrix / np.sqrt(m*n)\n",
    "imshow(m(32, 64))"
   ]
  },
  {
   "cell_type": "code",
   "execution_count": 376,
   "metadata": {
    "scrolled": true
   },
   "outputs": [
    {
     "data": {
      "text/plain": [
       "[<matplotlib.lines.Line2D at 0x7fc1b72802e0>]"
      ]
     },
     "execution_count": 376,
     "metadata": {},
     "output_type": "execute_result"
    },
    {
     "data": {
      "image/png": "[encoded data removed]",
      "text/plain": [
       "<Figure size 432x288 with 1 Axes>"
      ]
     },
     "metadata": {
      "needs_background": "light"
     },
     "output_type": "display_data"
    }
   ],
   "source": [
    "#layer 1 activation;\n",
    "relu = lambda x: np.maximum(x, 0.)\n",
    "plot(np.linspace(-1, 1, 32), relu(np.linspace(-1, 1, 32)))"
   ]
  },
  {
   "cell_type": "code",
   "execution_count": 377,
   "metadata": {},
   "outputs": [],
   "source": [
    "def softmax(x):\n",
    "    exps = np.exp(x - np.max(x))\n",
    "    return exps / np.sum(exps)\n",
    "\n",
    "#layer 2 activation\n",
    "def matrix_softmax(m):\n",
    "    return np.apply_along_axis(softmax, 0, m)"
   ]
  },
  {
   "cell_type": "code",
   "execution_count": 378,
   "metadata": {
    "scrolled": false
   },
   "outputs": [
    {
     "name": "stdout",
     "output_type": "stream",
     "text": [
      "[[ 0.51940716 -0.13441639  0.24725396]\n",
      " [-0.14198406  0.5691291   0.43464462]]\n",
      "[[0.65957284 0.33102662 0.45328895]\n",
      " [0.34042716 0.66897338 0.54671105]]\n"
     ]
    }
   ],
   "source": [
    "x = m(2, 3)\n",
    "print(x)\n",
    "\n",
    "#notice how each column adds up to 1, as probabilities should;\n",
    "print(matrix_softmax(x))"
   ]
  },
  {
   "cell_type": "code",
   "execution_count": 379,
   "metadata": {},
   "outputs": [],
   "source": [
    "#gets data for training & testing;\n",
    "def fetch(url):\n",
    "    import requests, gzip, os, hashlib, numpy\n",
    "    fp = os.path.join(\"/tmp\", hashlib.md5(url.encode('utf-8')).hexdigest())\n",
    "    if os.path.isfile(fp):\n",
    "        with open(fp, \"rb\") as f:\n",
    "            dat = f.read()\n",
    "    else:\n",
    "        with open(fp, \"wb\") as f:\n",
    "            dat = requests.get(url).content\n",
    "            f.write(dat)\n",
    "    return numpy.frombuffer(gzip.decompress(dat), dtype=np.uint8).copy()"
   ]
  },
  {
   "cell_type": "code",
   "execution_count": 380,
   "metadata": {},
   "outputs": [],
   "source": [
    "X_train = fetch(\"http://yann.lecun.com/exdb/mnist/train-images-idx3-ubyte.gz\")[0x10:].reshape((-1, 28, 28))\n",
    "Y_train = fetch(\"http://yann.lecun.com/exdb/mnist/train-labels-idx1-ubyte.gz\")[8:]\n",
    "X_test = fetch(\"http://yann.lecun.com/exdb/mnist/t10k-images-idx3-ubyte.gz\")[0x10:].reshape((-1, 28, 28))\n",
    "Y_test = fetch(\"http://yann.lecun.com/exdb/mnist/t10k-labels-idx1-ubyte.gz\")[8:]"
   ]
  },
  {
   "cell_type": "code",
   "execution_count": 381,
   "metadata": {
    "scrolled": false
   },
   "outputs": [
    {
     "data": {
      "text/plain": [
       "<matplotlib.image.AxesImage at 0x7fc1aed9a100>"
      ]
     },
     "execution_count": 381,
     "metadata": {},
     "output_type": "execute_result"
    },
    {
     "data": {
      "image/png": "[encoded data removed]",
      "text/plain": [
       "<Figure size 432x288 with 1 Axes>"
      ]
     },
     "metadata": {
      "needs_background": "light"
     },
     "output_type": "display_data"
    }
   ],
   "source": [
    "imshow(X_train[32])"
   ]
  },
  {
   "cell_type": "code",
   "execution_count": 382,
   "metadata": {},
   "outputs": [],
   "source": [
    "#encodes lables from 1 to [0, 1, 0, 0..] as prob. distr.;\n",
    "#so it could be compared to predicted prob. distr.;\n",
    "def row(n):\n",
    "    return [1 if i == n else 0 for i in range(10)]\n",
    "\n",
    "#picks a batch of train inputs of size bs and number i;\n",
    "#used in training loop;\n",
    "def get_x(x, bs, i):\n",
    "    return x[bs*i : bs*(i+1)]\n",
    "\n",
    "#picks a batch of train outputs;\n",
    "def get_y(y, bs, i):\n",
    "    return y[bs*i : bs*(i+1)].T"
   ]
  },
  {
   "cell_type": "code",
   "execution_count": 383,
   "metadata": {},
   "outputs": [],
   "source": [
    "#prepare data for training;\n",
    "y = np.array([row(n) for n in Y_train])\n",
    "x = np.array([m.reshape(-1, 1) for m in X_train])\n",
    "x = x / 255 "
   ]
  },
  {
   "cell_type": "markdown",
   "metadata": {},
   "source": [
    "# A forward pass."
   ]
  },
  {
   "cell_type": "code",
   "execution_count": 384,
   "metadata": {},
   "outputs": [
    {
     "data": {
      "text/plain": [
       "array([[0.07232686, 0.07193095],\n",
       "       [0.08445238, 0.08392827],\n",
       "       [0.13512066, 0.13519176],\n",
       "       [0.11926165, 0.11872839],\n",
       "       [0.09832846, 0.09762971],\n",
       "       [0.10949631, 0.11064278],\n",
       "       [0.10126509, 0.10279051],\n",
       "       [0.08292938, 0.08324128],\n",
       "       [0.06177461, 0.06178838],\n",
       "       [0.13504461, 0.13412797]])"
      ]
     },
     "execution_count": 384,
     "metadata": {},
     "output_type": "execute_result"
    }
   ],
   "source": [
    "#random parameters;\n",
    "W0 = m(128, 784)\n",
    "b0 = m(128, 1)\n",
    "W1 = m(10, 128)\n",
    "b1 = m(10, 1)\n",
    "\n",
    "#input batch;\n",
    "x0 = get_x(x, 2, 1).T\n",
    "\n",
    "#hidden layer;\n",
    "x1 = W0 @ x0 + b0\n",
    "l1 = relu(x1)\n",
    "\n",
    "#l2 is output;\n",
    "x2 = W1 @ l1 + b1\n",
    "l2 = matrix_softmax(x2[0])\n",
    "l2"
   ]
  },
  {
   "cell_type": "markdown",
   "metadata": {},
   "source": [
    "# A backward pass."
   ]
  },
  {
   "cell_type": "code",
   "execution_count": 385,
   "metadata": {},
   "outputs": [],
   "source": [
    "#\"jacobians\" for computing 4 useful gradients;\n",
    "dloss_dx2 = (l2 - get_y(y, 2, 1)).T\n",
    "dx2_dl1 = W1\n",
    "dx1_dW0 = x0[0]\n",
    "dx2_dW1 = (l1[0].T)\n",
    "\n",
    "#chain rule; currently it's ugly;\n",
    "#these 4 will be used in SGD;\n",
    "#but like any enterprise, when under a new management, \n",
    "#there's always a slight duplication of efforts;\n",
    "dloss_dW0 = ((dloss_dx2 @ dx2_dl1) * ((l1[0]>0) + 0.).T ).T @ dx1_dW0.T\n",
    "dloss_dW1 = dloss_dx2.T @ dx2_dW1\n",
    "dloss_db0 = ((dloss_dx2 @ dx2_dl1 * (l1[0]>0).T  )).sum(axis=0).reshape(-1,1)\n",
    "dloss_db1 = (dloss_dx2.T).sum(axis=1).reshape(-1,1)"
   ]
  },
  {
   "cell_type": "code",
   "execution_count": 386,
   "metadata": {},
   "outputs": [],
   "source": [
    "#calculates gradients on a batch given parameters;\n",
    "#will be used in gradient descent;\n",
    "def grads(train, labels, W0, W1, b0, b1):\n",
    "\n",
    "    x0 = train\n",
    "    x1 = W0 @ x0 + b0\n",
    "    l1 = relu(x1)\n",
    "    x2 = W1 @ l1 + b1\n",
    "    l2 = matrix_softmax(x2[0])\n",
    "\n",
    "    dloss_dx2 = (l2 - labels).T\n",
    "    dx2_dl1 = W1\n",
    "    dx1_dW0 = x0[0]\n",
    "    dx2_dW1 = (l1[0].T)\n",
    " \n",
    "    dloss_dW0 = ((dloss_dx2 @ dx2_dl1) * ((l1[0]>0) + 0.).T ).T @ dx1_dW0.T\n",
    "    dloss_dW1 = dloss_dx2.T @ dx2_dW1\n",
    "    dloss_db0 = ((dloss_dx2 @ dx2_dl1 * (l1[0]>0).T  )).sum(axis=0).reshape(-1,1)\n",
    "    dloss_db1 = (dloss_dx2.T).sum(axis=1).reshape(-1,1)\n",
    "    \n",
    "    return (dloss_dW0, dloss_dW1, dloss_db0, dloss_db1)"
   ]
  },
  {
   "cell_type": "markdown",
   "metadata": {},
   "source": [
    "# Training."
   ]
  },
  {
   "cell_type": "code",
   "execution_count": 387,
   "metadata": {},
   "outputs": [
    {
     "data": {
      "text/plain": [
       "234.375"
      ]
     },
     "execution_count": 387,
     "metadata": {},
     "output_type": "execute_result"
    }
   ],
   "source": [
    "60000/256"
   ]
  },
  {
   "cell_type": "code",
   "execution_count": 410,
   "metadata": {},
   "outputs": [],
   "source": [
    "#4096 is way too much but I wanted > 95% accuracy\n",
    "#for like no reason\n",
    "\n",
    "W0 = m(4096, 784)\n",
    "b0 = m(4096, 1)\n",
    "W1 = m(10, 4096)\n",
    "b1 = m(10, 1)\n",
    "\n",
    "#training loop with batch size 256 and learning rate 0.0045\n",
    "lr = 0.0045\n",
    "for i in range(230):\n",
    "\n",
    "    x_train = get_x(x, 256, i).T\n",
    "    y_train = get_y(y, 256, i)\n",
    "    \n",
    "    #how sensitive is loss to small changes in parameters?\n",
    "    dloss_dW0, dloss_dW1, dloss_db0, dloss_db1 = grads(x_train, y_train, W0, W1, b0, b1)\n",
    "    \n",
    "    #minimising loss by nudging parameters;\n",
    "    W0 = W0 - dloss_dW0 * lr\n",
    "    W1 = W1 - dloss_dW1 * lr\n",
    "    b0 = b0 - dloss_db0 * lr\n",
    "    b1 = b1 - dloss_db1 * lr\n",
    "    #getting better parameters as a result;"
   ]
  },
  {
   "cell_type": "code",
   "execution_count": 390,
   "metadata": {},
   "outputs": [],
   "source": [
    "#preparing test data\n",
    "yt = np.array([row(n) for n in Y_test])\n",
    "xt = X_test\n",
    "xt = xt / 255 "
   ]
  },
  {
   "cell_type": "code",
   "execution_count": 372,
   "metadata": {},
   "outputs": [],
   "source": [
    "def predict(img):\n",
    "    x0 = img.reshape(-1,1)\n",
    "    x1 = W0 @ x0 + b0\n",
    "    l1 = relu(x1)\n",
    "    x2 = W1 @ l1 + b1\n",
    "    l2 = softmax(x2)\n",
    "    return np.argmax(l2)"
   ]
  },
  {
   "cell_type": "code",
   "execution_count": 392,
   "metadata": {},
   "outputs": [
    {
     "name": "stdout",
     "output_type": "stream",
     "text": [
      "7\n"
     ]
    },
    {
     "data": {
      "text/plain": [
       "<matplotlib.image.AxesImage at 0x7fc1aee04f70>"
      ]
     },
     "execution_count": 392,
     "metadata": {},
     "output_type": "execute_result"
    },
    {
     "data": {
      "image/png": "[encoded data removed]",
      "text/plain": [
       "<Figure size 432x288 with 1 Axes>"
      ]
     },
     "metadata": {
      "needs_background": "light"
     },
     "output_type": "display_data"
    }
   ],
   "source": [
    "print(predict(xt[0]))\n",
    "imshow(xt[0])"
   ]
  },
  {
   "cell_type": "code",
   "execution_count": 411,
   "metadata": {},
   "outputs": [],
   "source": [
    "mistakes = sum([(predict(xt[i]) - np.argmax(yt[i]) != 0) + 0. for i in range(10000)])"
   ]
  },
  {
   "cell_type": "code",
   "execution_count": 412,
   "metadata": {},
   "outputs": [
    {
     "data": {
      "text/plain": [
       "0.9504"
      ]
     },
     "execution_count": 412,
     "metadata": {},
     "output_type": "execute_result"
    }
   ],
   "source": [
    "#accuracy\n",
    "(10000 - mistakes) / 10000"
   ]
  },
  {
   "cell_type": "code",
   "execution_count": null,
   "metadata": {},
   "outputs": [],
   "source": []
  }
 ],
 "metadata": {
  "kernelspec": {
   "display_name": "Python 3",
   "language": "python",
   "name": "python3"
  },
  "language_info": {
   "codemirror_mode": {
    "name": "ipython",
    "version": 3
   },
   "file_extension": ".py",
   "mimetype": "text/x-python",
   "name": "python",
   "nbconvert_exporter": "python",
   "pygments_lexer": "ipython3",
   "version": "3.8.5"
  }
 },
 "nbformat": 4,
 "nbformat_minor": 4
}
