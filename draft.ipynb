{
 "cells": [
  {
   "cell_type": "markdown",
   "metadata": {},
   "source": [
    "# A small neural network that predicts whether float is > 0. Only using numpy & pyplot. Which is actually quite a lot. \n",
    "\n",
    "# Totally overcommented. Because I had fun!"
   ]
  },
  {
   "cell_type": "code",
   "execution_count": 2,
   "metadata": {},
   "outputs": [],
   "source": [
    "import numpy as np\n",
    "import matplotlib.pyplot as plt"
   ]
  },
  {
   "cell_type": "markdown",
   "metadata": {},
   "source": [
    "# Let's define useful stuff & check it."
   ]
  },
  {
   "cell_type": "code",
   "execution_count": null,
   "metadata": {},
   "outputs": [],
   "source": [
    "#all red ''' comments ''' are just me thinking in text;\n",
    "#green-blue #commets ike this one might be useful;\n",
    "#and might be not;"
   ]
  },
  {
   "cell_type": "code",
   "execution_count": 3,
   "metadata": {},
   "outputs": [],
   "source": [
    "#uniformly random normalised matrix for weights, biases & tests;\n",
    "def unm(m, n):\n",
    "    matrix = np.random.uniform(-1, 1, size=(m,n))\n",
    "    return matrix / np.sqrt(m*n)"
   ]
  },
  {
   "cell_type": "code",
   "execution_count": 133,
   "metadata": {
    "scrolled": true
   },
   "outputs": [
    {
     "data": {
      "image/png": "[encoded data removed]",
      "text/plain": [
       "<Figure size 432x288 with 1 Axes>"
      ]
     },
     "metadata": {
      "needs_background": "light"
     },
     "output_type": "display_data"
    }
   ],
   "source": [
    "plt.imshow(unm(8, 32))\n",
    "plt.show()"
   ]
  },
  {
   "cell_type": "code",
   "execution_count": 4,
   "metadata": {},
   "outputs": [
    {
     "data": {
      "image/png": "[encoded data removed]",
      "text/plain": [
       "<Figure size 432x288 with 1 Axes>"
      ]
     },
     "metadata": {
      "needs_background": "light"
     },
     "output_type": "display_data"
    }
   ],
   "source": [
    "relu = lambda x: np.maximum(x, 0.)\n",
    "\n",
    "x = np.linspace(-1, 1, 64)\n",
    "plt.plot(x, relu(x))\n",
    "plt.show()"
   ]
  },
  {
   "cell_type": "code",
   "execution_count": 5,
   "metadata": {},
   "outputs": [],
   "source": [
    "def softmax(x):\n",
    "    exps = np.exp(x - np.max(x))\n",
    "    return exps / np.sum(exps)"
   ]
  },
  {
   "cell_type": "code",
   "execution_count": 134,
   "metadata": {
    "scrolled": false
   },
   "outputs": [
    {
     "data": {
      "image/png": "[encoded data removed]",
      "text/plain": [
       "<Figure size 432x288 with 1 Axes>"
      ]
     },
     "metadata": {
      "needs_background": "light"
     },
     "output_type": "display_data"
    },
    {
     "data": {
      "image/png": "[encoded data removed]",
      "text/plain": [
       "<Figure size 432x288 with 1 Axes>"
      ]
     },
     "metadata": {
      "needs_background": "light"
     },
     "output_type": "display_data"
    },
    {
     "name": "stdout",
     "output_type": "stream",
     "text": [
      "sum(softmax(x)) =  1.0\n",
      "nice!\n"
     ]
    }
   ],
   "source": [
    "x = unm(8, 1)\n",
    "plt.imshow(x.T)\n",
    "plt.show()\n",
    "\n",
    "plt.imshow(softmax(x.T))\n",
    "plt.show()\n",
    "\n",
    "#it's good if sum is ~1.0;\n",
    "print(\"sum(softmax(x)) = \", float(sum(softmax(x))))\n",
    "print(\"nice!\")"
   ]
  },
  {
   "cell_type": "code",
   "execution_count": 85,
   "metadata": {
    "scrolled": true
   },
   "outputs": [
    {
     "name": "stdout",
     "output_type": "stream",
     "text": [
      "[[-0.1583079   0.15597987 -0.04853325]\n",
      " [-0.31919008  0.19380998 -0.18389419]]\n"
     ]
    },
    {
     "data": {
      "text/plain": [
       "array([[0.54013402, 0.4905436 , 0.53378866],\n",
       "       [0.45986598, 0.5094564 , 0.46621134]])"
      ]
     },
     "execution_count": 85,
     "metadata": {},
     "output_type": "execute_result"
    }
   ],
   "source": [
    "def matrix_softmax(m):\n",
    "    return np.apply_along_axis(softmax, 0, m)\n",
    "\n",
    "t = unm(2,3)\n",
    "print(t)\n",
    "matrix_softmax(t)"
   ]
  },
  {
   "cell_type": "code",
   "execution_count": null,
   "metadata": {},
   "outputs": [],
   "source": []
  },
  {
   "cell_type": "code",
   "execution_count": null,
   "metadata": {},
   "outputs": [],
   "source": []
  },
  {
   "cell_type": "code",
   "execution_count": null,
   "metadata": {},
   "outputs": [],
   "source": []
  },
  {
   "cell_type": "code",
   "execution_count": 7,
   "metadata": {},
   "outputs": [
    {
     "data": {
      "image/png": "[encoded data removed]",
      "text/plain": [
       "<Figure size 432x288 with 2 Axes>"
      ]
     },
     "metadata": {
      "needs_background": "light"
     },
     "output_type": "display_data"
    }
   ],
   "source": [
    "#returns diagonal matrix with entries from column vector v;\n",
    "def dm(v):\n",
    "    l = len(v)\n",
    "    m = np.zeros([l, l])\n",
    "    np.fill_diagonal(m, v)\n",
    "    return m\n",
    "\n",
    "v = unm(8,1)\n",
    "plt.subplot(1,2,1)\n",
    "plt.imshow(v)\n",
    "plt.subplot(1,2,2)\n",
    "plt.imshow(dm(v))\n",
    "plt.tight_layout()"
   ]
  },
  {
   "cell_type": "markdown",
   "metadata": {},
   "source": [
    "# Stuff's ready - let's do a draft."
   ]
  },
  {
   "cell_type": "code",
   "execution_count": 93,
   "metadata": {},
   "outputs": [
    {
     "name": "stdout",
     "output_type": "stream",
     "text": [
      "W1 (2, 8)\n",
      "dloss_dW1 (2, 8)\n",
      "W0 (8, 1)\n",
      "dloss_dW0 (8, 3)\n",
      "b0 (8, 1)\n",
      "dloss_db0 (8, 3)\n",
      "b1 (2, 1)\n",
      "dloss_db1 (2, 3)\n"
     ]
    }
   ],
   "source": [
    "'''\n",
    "individual forward path takes float -1 < x < 1\n",
    "and tries to predict probability distribution of it being > 0;\n",
    "    0.5  -> [1, 0]\n",
    "    -0.7 -> [0, 1]\n",
    "       x -> [1 if (x > 0) else 0, 1 if (x < 0) else 0]\n",
    "       \n",
    "a good model would do something like:\n",
    "    0.1 -> [0.7, 0.3]\n",
    "   -0.2 -> [0.2, 0.8]\n",
    "   loss is cross entropy between [0, 1] and [0.2, 0.8];\n",
    "'''\n",
    "\n",
    "#one forward pass\n",
    "\n",
    "#random weight & biases\n",
    "W0 = unm(8, 1)\n",
    "b0 = unm(8, 1)\n",
    "W1 = unm(2, 8)\n",
    "b1 = unm(2, 1)\n",
    "\n",
    "\n",
    "#layers are x before activation and l after\n",
    "\n",
    "#input = x0\n",
    "x0 = np.array([[0.5],[1],[8]]).T\n",
    "\n",
    "#hidden layer\n",
    "x1 = x0 * W0 + b0\n",
    "l1 = relu(x1)\n",
    "\n",
    "#l2 is output\n",
    "x2 = W1 @ l1 + b1\n",
    "l2 = matrix_softmax(x2)\n",
    "\n",
    "dloss_dx2 = (l2 - np.zeros(l2.shape)).T\n",
    "#jacobians for computing 4 useful gradients;\n",
    "dx2_dl1 = W1\n",
    "dl1_dx1 = dm(l1>0)\n",
    "dx1_dW0 = W0\n",
    "dx2_dW1 = (l1.T)\n",
    "\n",
    "#chain rule for jacobians produces gradients;\n",
    "#these 4 will be used in SGD;\n",
    "#but like any enterprise, when under a new management, \n",
    "#there's always a slight duplication of efforts.\n",
    "\n",
    "dloss_dW0 = l1 * dx1_dW0 * (dx2_dl1.T @ dloss_dx2.T)\n",
    "\n",
    "dloss_dW1 = dloss_dx2.T @ dx2_dW1\n",
    "dloss_db0 = (dloss_dx2 @ dx2_dl1 @ dl1_dx1).T\n",
    "dloss_db1 = dloss_dx2.T\n",
    "#seems to work!\n",
    "\n",
    "print(\"W1\", W1.shape)\n",
    "print(\"dloss_dW1\", dloss_dW1.shape)\n",
    "\n",
    "print(\"W0\", W0.shape)\n",
    "print(\"dloss_dW0\", dloss_dW0.shape)\n",
    "\n",
    "print(\"b0\", b0.shape)\n",
    "print(\"dloss_db0\", dloss_db0.shape)\n",
    "\n",
    "print(\"b1\", b1.shape)\n",
    "print(\"dloss_db1\", dloss_db1.shape)\n",
    "\n",
    "#shapes seem to be reasonable"
   ]
  },
  {
   "cell_type": "code",
   "execution_count": null,
   "metadata": {},
   "outputs": [],
   "source": []
  },
  {
   "cell_type": "code",
   "execution_count": null,
   "metadata": {},
   "outputs": [],
   "source": []
  },
  {
   "cell_type": "code",
   "execution_count": null,
   "metadata": {},
   "outputs": [],
   "source": []
  },
  {
   "cell_type": "code",
   "execution_count": null,
   "metadata": {},
   "outputs": [],
   "source": []
  },
  {
   "cell_type": "markdown",
   "metadata": {},
   "source": [
    "# Let's write a function that returns gradients."
   ]
  },
  {
   "cell_type": "code",
   "execution_count": 124,
   "metadata": {},
   "outputs": [],
   "source": [
    "def grads(train, labels, W0, W1, b0, b1):\n",
    "    \n",
    "    '''\n",
    "    -> dloss_dW0, dloss_dW1, dloss_db0, dloss_db1\n",
    "    \n",
    "    The vagones of the row vector train (np.array) are floats.\n",
    "    Each one of them is a training example. \n",
    "    And has a corresponding lable in labels.\n",
    "    In my particular case each lables[i] is [1, 0] if train[i] > 0,\n",
    "    and [0, 1] otherwise.\n",
    "    The length of train is the batch size.\n",
    "    W & b are weights & biases.\n",
    "    Returns gradients of W & b.\n",
    "    '''\n",
    "    \n",
    "    \n",
    "    x0 = train\n",
    "\n",
    "    x1 = x0 * W0 + b0\n",
    "    l1 = relu(x1)\n",
    "\n",
    "    x2 = W1 @ l1 + b1\n",
    "    l2 = softmax(x2)\n",
    "\n",
    "    dloss_dx2 = (l2 - labels).T\n",
    "    \n",
    "    dx2_dl1 = W1\n",
    "    dl1_dx1 = dm(l1>0)\n",
    "    dx1_dW0 = W0\n",
    "    dx2_dW1 = (l1.T)\n",
    "    \n",
    "    \n",
    "    dloss_dW0 = ((dx2_dl1.T @ dloss_dx2.T) @ l1.T) @  dx1_dW0\n",
    "\n",
    "    dloss_dW1 = dloss_dx2.T @ dx2_dW1\n",
    "    dloss_db0 = ((dloss_dx2 @ dx2_dl1 @ dl1_dx1).T).sum(axis=1).reshape(-1,1)\n",
    "\n",
    "    dloss_db1 = (dloss_dx2.T).sum(axis=1).reshape(-1,1)\n",
    "\n",
    "    return (dloss_dW0, dloss_dW1, dloss_db0, dloss_db1)"
   ]
  },
  {
   "cell_type": "code",
   "execution_count": null,
   "metadata": {},
   "outputs": [],
   "source": []
  },
  {
   "cell_type": "code",
   "execution_count": null,
   "metadata": {},
   "outputs": [],
   "source": []
  },
  {
   "cell_type": "code",
   "execution_count": null,
   "metadata": {},
   "outputs": [],
   "source": []
  },
  {
   "cell_type": "code",
   "execution_count": null,
   "metadata": {},
   "outputs": [],
   "source": []
  },
  {
   "cell_type": "code",
   "execution_count": 165,
   "metadata": {},
   "outputs": [],
   "source": [
    "#generate smol data;\n",
    "small_train = unm(1, 10)\n",
    "small_lables = np.array([np.array([1, 0]) if el > 0 else np.array([0, 1]) for el in small_train[0]]).T"
   ]
  },
  {
   "cell_type": "code",
   "execution_count": null,
   "metadata": {},
   "outputs": [],
   "source": []
  },
  {
   "cell_type": "code",
   "execution_count": null,
   "metadata": {},
   "outputs": [],
   "source": []
  },
  {
   "cell_type": "code",
   "execution_count": 173,
   "metadata": {
    "scrolled": false
   },
   "outputs": [
    {
     "name": "stdout",
     "output_type": "stream",
     "text": [
      "Train:\n"
     ]
    },
    {
     "data": {
      "image/png": "[encoded data removed]",
      "text/plain": [
       "<Figure size 432x288 with 1 Axes>"
      ]
     },
     "metadata": {
      "needs_background": "light"
     },
     "output_type": "display_data"
    },
    {
     "name": "stdout",
     "output_type": "stream",
     "text": [
      "Lables:\n"
     ]
    },
    {
     "data": {
      "image/png": "[encoded data removed]",
      "text/plain": [
       "<Figure size 432x288 with 1 Axes>"
      ]
     },
     "metadata": {
      "needs_background": "light"
     },
     "output_type": "display_data"
    },
    {
     "name": "stdout",
     "output_type": "stream",
     "text": [
      "Very nice!\n",
      "We get pure hot, where it used to be hotter than 0.\n",
      "And super chill, where it used to be < 0.\n"
     ]
    }
   ],
   "source": [
    "#let's check how reasonable the lables are;\n",
    "#we don't do these things because they are easy;\n",
    "#we choose to go to the moon because it's hard;\n",
    "\n",
    "plt.imshow(small_train)\n",
    "plt.axis('off')\n",
    "print(\"Train:\")\n",
    "plt.show()\n",
    "\n",
    "plt.axis('off')\n",
    "check_lables = np.array([(small_lables.T[i][0] == 1) + 0. for i in range(10)])\n",
    "plt.imshow(check_lables.reshape(1, 10))\n",
    "print(\"Lables:\")\n",
    "plt.show()\n",
    "\n",
    "print(\"Very nice!\\nWe get pure hot, where it used to be hotter than 0.\\nAnd super chill, where it used to be < 0.\")"
   ]
  },
  {
   "cell_type": "code",
   "execution_count": 178,
   "metadata": {
    "scrolled": false
   },
   "outputs": [
    {
     "data": {
      "text/plain": [
       "(array([[-0.10015884],\n",
       "        [-0.03804341],\n",
       "        [ 0.18715007],\n",
       "        [ 0.07601161],\n",
       "        [ 0.07754393],\n",
       "        [-0.09112869],\n",
       "        [-0.1275932 ],\n",
       "        [ 0.01194222]]),\n",
       " array([[ 0.        , -0.86478876,  0.01033836,  0.        , -0.13451883,\n",
       "          0.        , -0.71837991, -0.39122632],\n",
       "        [ 0.        , -2.18853442, -0.19556299,  0.        ,  0.00514019,\n",
       "          0.        , -2.5425823 , -1.51334848]]),\n",
       " array([[0.],\n",
       "        [0.],\n",
       "        [0.],\n",
       "        [0.],\n",
       "        [0.],\n",
       "        [0.],\n",
       "        [0.],\n",
       "        [0.]]),\n",
       " array([[-2.35239698],\n",
       "        [-6.64760302]]))"
      ]
     },
     "execution_count": 178,
     "metadata": {},
     "output_type": "execute_result"
    }
   ],
   "source": [
    "W0 = unm(8, 1)\n",
    "b0 = unm(8, 1)\n",
    "W1 = unm(2, 8)\n",
    "b1 = unm(2, 1)\n",
    "\n",
    "grads(small_train, small_lables, W0, W1, b0, b1)"
   ]
  },
  {
   "cell_type": "code",
   "execution_count": 198,
   "metadata": {},
   "outputs": [],
   "source": [
    "#generating a lot of data\n",
    "def data(bs):\n",
    "    small_train = unm(1, bs)\n",
    "    small_lables = np.array([np.array([1, 0]) if el > 0 else np.array([0, 1]) for el in small_train[0]]).T\n",
    "    return (small_train, small_lables)\n",
    "\n",
    "#let's do data for 5 epoches with 256 batch size\n",
    "examples = [data(256) for _ in range(5)]"
   ]
  },
  {
   "cell_type": "markdown",
   "metadata": {},
   "source": [
    "# We are ready for training???"
   ]
  },
  {
   "cell_type": "code",
   "execution_count": null,
   "metadata": {},
   "outputs": [],
   "source": []
  },
  {
   "cell_type": "code",
   "execution_count": 209,
   "metadata": {},
   "outputs": [],
   "source": [
    "lr = 0.01\n",
    "\n",
    "#random initial parameters;\n",
    "W0 = unm(8, 1)\n",
    "b0 = unm(8, 1)\n",
    "W1 = unm(2, 8)\n",
    "b1 = unm(2, 1)\n",
    "\n",
    "for batch in examples:\n",
    "    x, y = batch\n",
    "    dloss_dW0, dloss_dW1, dloss_db0, dloss_db1 = grads(x, y, W0, W1, b0, b1)\n",
    "    W0 = W0 - dloss_dW0 * lr\n",
    "    W1 = W1 - dloss_dW1 * lr\n",
    "    b0 = b0 - dloss_db0 * lr\n",
    "    b1 = b1 - dloss_db1 * lr\n",
    "    "
   ]
  },
  {
   "cell_type": "code",
   "execution_count": 241,
   "metadata": {},
   "outputs": [
    {
     "data": {
      "text/plain": [
       "array([[0.],\n",
       "       [1.]])"
      ]
     },
     "execution_count": 241,
     "metadata": {},
     "output_type": "execute_result"
    }
   ],
   "source": [
    "x0 = -0.05\n",
    "\n",
    "x1 = x0 * W0 + b0\n",
    "l1 = relu(x1)\n",
    "\n",
    "x2 = W1 @ l1 + b1\n",
    "l2 = softmax(x2)\n",
    "l2.round(3)"
   ]
  },
  {
   "cell_type": "code",
   "execution_count": 241,
   "metadata": {},
   "outputs": [],
   "source": [
    "small_train = unm(1, 6)\n",
    "small_lables = np.array([np.array([1, 0]) if el > 0 else np.array([0, 1]) for el in small_train[0]])"
   ]
  },
  {
   "cell_type": "code",
   "execution_count": 245,
   "metadata": {},
   "outputs": [
    {
     "data": {
      "text/plain": [
       "array([[-0.05850445, -0.3790871 ],\n",
       "       [ 0.34338963,  0.3863616 ],\n",
       "       [-0.20696696,  0.09398707]])"
      ]
     },
     "execution_count": 245,
     "metadata": {},
     "output_type": "execute_result"
    }
   ],
   "source": [
    "small_train.reshape(3, 2)"
   ]
  },
  {
   "cell_type": "code",
   "execution_count": 251,
   "metadata": {},
   "outputs": [
    {
     "data": {
      "text/plain": [
       "array([[-0.05850445, -0.3790871 ,  0.34338963,  0.3863616 , -0.20696696,\n",
       "         0.09398707]])"
      ]
     },
     "execution_count": 251,
     "metadata": {},
     "output_type": "execute_result"
    }
   ],
   "source": [
    "small_train"
   ]
  },
  {
   "cell_type": "code",
   "execution_count": 222,
   "metadata": {},
   "outputs": [
    {
     "data": {
      "text/plain": [
       "array([-0.02800081, -0.18762683])"
      ]
     },
     "execution_count": 222,
     "metadata": {},
     "output_type": "execute_result"
    }
   ],
   "source": [
    "[i for i in small_train.reshape(2, 2)][0]"
   ]
  },
  {
   "cell_type": "code",
   "execution_count": null,
   "metadata": {},
   "outputs": [],
   "source": []
  },
  {
   "cell_type": "code",
   "execution_count": 253,
   "metadata": {},
   "outputs": [
    {
     "data": {
      "text/plain": [
       "array([[[0, 1],\n",
       "        [0, 1]],\n",
       "\n",
       "       [[1, 0],\n",
       "        [1, 0]],\n",
       "\n",
       "       [[0, 1],\n",
       "        [1, 0]]])"
      ]
     },
     "execution_count": 253,
     "metadata": {},
     "output_type": "execute_result"
    }
   ],
   "source": [
    "(small_lables.reshape(3, 2, 2))"
   ]
  },
  {
   "cell_type": "code",
   "execution_count": 239,
   "metadata": {},
   "outputs": [
    {
     "data": {
      "text/plain": [
       "array([0, 1])"
      ]
     },
     "execution_count": 239,
     "metadata": {},
     "output_type": "execute_result"
    }
   ],
   "source": [
    "small_lables[1]"
   ]
  },
  {
   "cell_type": "code",
   "execution_count": 238,
   "metadata": {},
   "outputs": [
    {
     "data": {
      "text/plain": [
       "-0.18762682995270796"
      ]
     },
     "execution_count": 238,
     "metadata": {},
     "output_type": "execute_result"
    }
   ],
   "source": [
    "small_train[0][1]"
   ]
  },
  {
   "cell_type": "code",
   "execution_count": 240,
   "metadata": {},
   "outputs": [
    {
     "data": {
      "text/plain": [
       "-0.18762682995270796"
      ]
     },
     "execution_count": 240,
     "metadata": {},
     "output_type": "execute_result"
    }
   ],
   "source": [
    "small_train.reshape(2, 2)[0][1]"
   ]
  },
  {
   "cell_type": "code",
   "execution_count": 256,
   "metadata": {},
   "outputs": [
    {
     "data": {
      "text/plain": [
       "array([[ 6.19003115e-04, -1.09004678e-03,  2.00899227e-04, ...,\n",
       "        -9.21052977e-04,  3.57384628e-03, -3.49886038e-03],\n",
       "       [-2.05687594e-03,  4.58381604e-05, -4.69034492e-04, ...,\n",
       "         3.69259890e-03, -3.29902922e-03,  8.69313834e-04],\n",
       "       [-5.17828927e-04, -8.34264207e-04,  2.23210995e-03, ...,\n",
       "         3.85903609e-03,  2.99789637e-03,  2.19243210e-04],\n",
       "       ...,\n",
       "       [-1.18508026e-03,  1.09872857e-03,  6.19885768e-04, ...,\n",
       "         2.64785330e-03, -8.52245879e-05,  3.38109297e-04],\n",
       "       [ 2.05589069e-03,  3.25634906e-04,  2.40469533e-03, ...,\n",
       "         3.75328825e-03, -2.39491476e-03, -3.22329638e-03],\n",
       "       [-3.02616856e-03,  2.91599545e-03,  3.34308038e-03, ...,\n",
       "        -1.91439468e-03,  2.96186157e-03, -2.27952789e-03]])"
      ]
     },
     "execution_count": 256,
     "metadata": {},
     "output_type": "execute_result"
    }
   ],
   "source": [
    "train.reshape(bs, int(65536/bs))"
   ]
  },
  {
   "cell_type": "code",
   "execution_count": 258,
   "metadata": {
    "collapsed": true
   },
   "outputs": [
    {
     "data": {
      "text/plain": [
       "array([[[1, 0],\n",
       "        [0, 1],\n",
       "        [1, 0],\n",
       "        ...,\n",
       "        [0, 1],\n",
       "        [1, 0],\n",
       "        [0, 1]],\n",
       "\n",
       "       [[0, 1],\n",
       "        [1, 0],\n",
       "        [0, 1],\n",
       "        ...,\n",
       "        [1, 0],\n",
       "        [0, 1],\n",
       "        [1, 0]],\n",
       "\n",
       "       [[0, 1],\n",
       "        [0, 1],\n",
       "        [1, 0],\n",
       "        ...,\n",
       "        [1, 0],\n",
       "        [1, 0],\n",
       "        [1, 0]],\n",
       "\n",
       "       ...,\n",
       "\n",
       "       [[0, 1],\n",
       "        [1, 0],\n",
       "        [1, 0],\n",
       "        ...,\n",
       "        [1, 0],\n",
       "        [0, 1],\n",
       "        [1, 0]],\n",
       "\n",
       "       [[1, 0],\n",
       "        [1, 0],\n",
       "        [1, 0],\n",
       "        ...,\n",
       "        [1, 0],\n",
       "        [0, 1],\n",
       "        [0, 1]],\n",
       "\n",
       "       [[0, 1],\n",
       "        [1, 0],\n",
       "        [1, 0],\n",
       "        ...,\n",
       "        [0, 1],\n",
       "        [1, 0],\n",
       "        [0, 1]]])"
      ]
     },
     "execution_count": 258,
     "metadata": {},
     "output_type": "execute_result"
    }
   ],
   "source": [
    "(lables.reshape(bs, int(65536/bs), 2))"
   ]
  },
  {
   "cell_type": "code",
   "execution_count": 281,
   "metadata": {
    "collapsed": true
   },
   "outputs": [
    {
     "name": "stdout",
     "output_type": "stream",
     "text": [
      "[ 6.19003115e-04 -1.09004678e-03  2.00899227e-04  8.77671968e-05\n",
      " -1.87738464e-03  2.77817081e-03  1.21401215e-03 -3.08835565e-03\n",
      " -2.92305705e-03  2.03533781e-03 -3.68714864e-03  6.41986857e-04\n",
      " -1.29147329e-03  1.88133191e-03  1.61133415e-03 -1.64204167e-03\n",
      " -4.80664810e-04  3.59626668e-03  1.73597982e-03  1.43141799e-03\n",
      " -3.62555252e-03  1.12873265e-03 -1.55108352e-03 -2.51468669e-03\n",
      " -3.22127638e-03 -3.19968975e-03  3.74699043e-04  5.30760154e-04\n",
      " -9.10452765e-04 -1.67492137e-03  3.67140921e-05  3.37210098e-03\n",
      "  3.52574089e-03 -2.94864920e-03  3.21806654e-03  7.16463981e-05\n",
      "  3.51842336e-03  1.42969602e-04  9.20527196e-04 -1.26268498e-03\n",
      " -3.36814330e-04 -2.75176441e-03 -3.64283667e-03 -1.48676047e-03\n",
      "  2.50651812e-03  3.30130044e-03 -9.01948695e-04  2.16548040e-03\n",
      " -3.79823419e-03 -3.74666185e-03  2.55699074e-03  3.31958440e-03\n",
      " -3.90345247e-03 -1.01579151e-03  1.51095540e-03 -3.01374526e-03\n",
      " -1.27559130e-04  3.70758548e-03  2.77306729e-03  1.80541077e-03\n",
      "  2.91674421e-03 -1.23760441e-03 -1.94286698e-03 -1.89336357e-04\n",
      "  4.18051517e-04  2.60121824e-03 -4.39646944e-04  1.04552482e-03\n",
      "  5.97649378e-05  1.40380268e-03 -2.38016790e-03  1.40296496e-03\n",
      "  2.91127256e-03  2.89772616e-03  3.41417774e-03 -2.59277975e-03\n",
      "  9.52410884e-04  7.77327500e-04  3.35688802e-04  1.05850379e-03\n",
      " -3.20379167e-03 -2.56330216e-03  2.29731456e-03  3.53654080e-03\n",
      "  3.89309776e-04  5.64182382e-04 -1.57736391e-03  7.37172707e-04\n",
      " -2.62679598e-03 -2.37284573e-03 -2.58764199e-03  2.59793657e-03\n",
      " -2.70209818e-03 -1.54027083e-03  1.12729694e-03 -2.77117888e-03\n",
      "  3.34010715e-03 -3.10276223e-03 -3.74495714e-03  8.28098847e-04\n",
      " -3.58247109e-03 -2.33822267e-03 -6.89348806e-04  3.05819502e-03\n",
      "  3.75258906e-03  4.30454275e-04  1.39559666e-03 -2.74802007e-03\n",
      " -2.62923206e-03 -3.01446774e-03  3.52476160e-03  3.19801963e-03\n",
      "  2.01912500e-03  1.65386230e-03 -3.73115615e-03 -1.93360444e-03\n",
      "  3.70940876e-03  1.02991706e-03 -2.87099693e-03  3.16139742e-03\n",
      " -2.10727006e-03 -1.45540557e-03  2.54100553e-03  2.01075553e-03\n",
      "  3.26145800e-03 -4.15632541e-04 -7.15956566e-04  2.44589888e-03\n",
      " -1.62452084e-03 -2.56014941e-03  3.81595818e-03 -2.24569023e-03\n",
      " -7.97727716e-04 -3.02036359e-03  2.57615418e-03 -2.94676330e-03\n",
      " -3.04249560e-03 -9.80993934e-04 -3.83130160e-04 -1.40723289e-03\n",
      " -3.01049913e-03  3.76656752e-03 -1.67346962e-03 -3.22227260e-03\n",
      " -1.10080316e-03 -1.40382228e-03  1.85667232e-03 -1.88244083e-03\n",
      " -4.16840311e-04 -9.82271031e-04  3.23657265e-03  6.57515672e-04\n",
      " -1.72567756e-03 -2.88726903e-04  7.18801986e-04 -2.75185003e-03\n",
      " -2.32367271e-04 -3.66582407e-03  8.56838403e-04  3.75950454e-03\n",
      " -3.80039950e-03  2.31523890e-03 -2.28357550e-03  1.84650180e-03\n",
      " -2.42105401e-03  9.54903705e-04 -1.74006209e-03  1.71151755e-03\n",
      "  2.41677349e-03 -3.17744203e-03 -2.98438724e-03  2.65154481e-04\n",
      "  4.30850510e-04  1.13130616e-03  2.07318261e-05  3.80523694e-03\n",
      "  3.03136544e-03  3.04605052e-03 -7.91888156e-04 -6.20439790e-04\n",
      " -2.32729261e-03  3.69532938e-03  1.34063829e-03  6.65480816e-04\n",
      "  3.06518254e-04  3.66968796e-05 -2.62791845e-03 -3.52780079e-03\n",
      " -2.64536509e-03 -3.60178089e-03 -3.06547658e-03 -5.02675500e-04\n",
      "  2.06213538e-03 -2.86483604e-03 -3.16762519e-03  2.84415653e-03\n",
      " -4.42371335e-04 -1.13930883e-03  2.73963687e-03 -2.07450983e-03\n",
      " -1.04195975e-03  1.22552412e-03  3.18285034e-03 -2.12411211e-03\n",
      "  1.68496829e-03 -1.92911347e-03 -3.78126020e-03 -3.88713907e-03\n",
      "  3.47174738e-03 -2.15487250e-03 -2.42410533e-03  3.32760193e-03\n",
      " -2.26140573e-03  2.12866237e-03 -3.19312340e-03 -2.38837677e-03\n",
      " -3.17037621e-06  6.50498064e-05  1.28247904e-03 -3.60117649e-03\n",
      "  8.03929052e-04 -3.26386566e-03  3.24781928e-04 -2.90409162e-03\n",
      "  1.62478056e-03 -1.47644802e-03  1.08928314e-03  3.87824080e-03\n",
      " -2.09956883e-03 -2.00864959e-03  2.78724181e-03 -3.77983484e-03\n",
      "  1.87596913e-03  1.65613798e-03 -2.13007933e-04 -6.87551716e-04\n",
      " -1.59847134e-03 -3.79020717e-03  5.85681955e-04 -3.37959126e-03\n",
      "  5.19370195e-04 -9.96260968e-04 -5.26215881e-04  2.89326799e-03\n",
      " -1.00748780e-03  4.84822419e-04  3.46012304e-03 -3.11593215e-03\n",
      "  2.48129528e-03 -3.79152821e-03  2.44761733e-03 -3.85251061e-03\n",
      "  3.70821175e-03 -9.21052977e-04  3.57384628e-03 -3.49886038e-03]\n"
     ]
    }
   ],
   "source": [
    "batches = train.reshape(bs, int(65536/bs))\n",
    "print(batches[0])"
   ]
  },
  {
   "cell_type": "code",
   "execution_count": 275,
   "metadata": {},
   "outputs": [],
   "source": [
    "lables_ = (lables.reshape(bs, int(65536/bs), 2))"
   ]
  },
  {
   "cell_type": "code",
   "execution_count": null,
   "metadata": {},
   "outputs": [],
   "source": []
  },
  {
   "cell_type": "code",
   "execution_count": 284,
   "metadata": {},
   "outputs": [],
   "source": [
    "batches = (train.reshape(bs, int(65536/bs)), lables.reshape(bs, int(65536/bs), 2))"
   ]
  },
  {
   "cell_type": "code",
   "execution_count": 352,
   "metadata": {},
   "outputs": [
    {
     "data": {
      "text/plain": [
       "(1, 3)"
      ]
     },
     "execution_count": 352,
     "metadata": {},
     "output_type": "execute_result"
    }
   ],
   "source": [
    "x = np.array([[1, 1, 2],\n",
    "             [2, 3, 5]])\n",
    "x.sum(axis=0).reshape(1,-1).shape"
   ]
  },
  {
   "cell_type": "code",
   "execution_count": 350,
   "metadata": {},
   "outputs": [
    {
     "data": {
      "text/plain": [
       "array([3, 4, 7])"
      ]
     },
     "execution_count": 350,
     "metadata": {},
     "output_type": "execute_result"
    }
   ],
   "source": [
    "x.sum(axis=0)"
   ]
  },
  {
   "cell_type": "code",
   "execution_count": null,
   "metadata": {},
   "outputs": [],
   "source": [
    "[[0.05363689 0.03176142]\n",
    " [0.05362017 0.0320996 ]\n",
    " [0.04834728 0.0302068 ]\n",
    " [0.04308776 0.02919489]\n",
    " [0.04564182 0.02969653]\n",
    " [0.04564182 0.02969653]\n",
    " [0.04564182 0.02969653]\n",
    " [0.04564182 0.02969653]\n",
    " [0.04564182 0.02969653]\n",
    " [0.04564182 0.02969653]\n",
    " [0.04564182 0.02969653]\n",
    " [0.04564182 0.02969653]\n",
    " [0.04564182 0.02969653]]"
   ]
  },
  {
   "cell_type": "code",
   "execution_count": 368,
   "metadata": {},
   "outputs": [],
   "source": [
    "x = np.array([1, 2, 3])\n",
    "y = np.array([[1],\n",
    "              [2],\n",
    "              [3]])"
   ]
  },
  {
   "cell_type": "code",
   "execution_count": 371,
   "metadata": {},
   "outputs": [
    {
     "data": {
      "text/plain": [
       "array([14])"
      ]
     },
     "execution_count": 371,
     "metadata": {},
     "output_type": "execute_result"
    }
   ],
   "source": [
    "x @ y"
   ]
  },
  {
   "cell_type": "code",
   "execution_count": 372,
   "metadata": {},
   "outputs": [
    {
     "data": {
      "text/plain": [
       "array([[1, 2, 3],\n",
       "       [2, 4, 6],\n",
       "       [3, 6, 9]])"
      ]
     },
     "execution_count": 372,
     "metadata": {},
     "output_type": "execute_result"
    }
   ],
   "source": [
    "np.outer(x, y)"
   ]
  },
  {
   "cell_type": "code",
   "execution_count": 134,
   "metadata": {},
   "outputs": [
    {
     "name": "stdout",
     "output_type": "stream",
     "text": [
      "(1, 3)\n",
      "(3, 2) (2, 8)\n",
      "W1 (2, 8)\n",
      "dloss_dW1 (2, 8)\n",
      "W0 (8, 1)\n",
      "dloss_dW0 (8, 1)\n",
      "b0 (8, 1)\n",
      "dloss_db0 (8, 1)\n",
      "b1 (2, 1)\n",
      "dloss_db1 (2, 1)\n"
     ]
    },
    {
     "data": {
      "text/plain": [
       "'\\nW0 = W0 - dloss_dW0 * lr\\nW1 = W1 - dloss_dW1 * lr\\nb0 = b0 - dloss_db0 * lr\\nb1 = b1 - dloss_db1 * lr\\n'"
      ]
     },
     "execution_count": 134,
     "metadata": {},
     "output_type": "execute_result"
    }
   ],
   "source": [
    "#one forward pass\n",
    "\n",
    "#random weight & biases\n",
    "W0 = unm(8, 1)\n",
    "b0 = unm(8, 1)\n",
    "W1 = unm(2, 8)\n",
    "b1 = unm(2, 1)\n",
    "\n",
    "\n",
    "#layers are x before activation and l after\n",
    "\n",
    "#input = x0\n",
    "x0 = np.array([[0.5],[5],[3]]).T\n",
    "print(x0.shape)\n",
    "#hidden layer\n",
    "x1 = x0 * W0 + b0\n",
    "l1 = relu(x1)\n",
    "\n",
    "#l2 is output\n",
    "x2 = W1 @ l1 + b1\n",
    "l2 = softmax(x2)\n",
    "\n",
    "dloss_dx2 = (l2 - np.zeros(l2.shape)).T\n",
    "#jacobians for computing 4 useful gradients;\n",
    "dx2_dl1 = W1\n",
    "dl1_dx1 = dm(l1>0)\n",
    "dx1_dW0 = W0\n",
    "dx2_dW1 = (l1.T)\n",
    "\n",
    "#chain rule for jacobians produces gradients;\n",
    "#these 4 will be used in SGD;\n",
    "#but like any enterprise, when under a new management, \n",
    "#there's always a slight duplication of efforts.\n",
    "\n",
    "dloss_dW0 = ((dx2_dl1.T @ dloss_dx2.T) @ l1.T) @  dx1_dW0\n",
    "\n",
    "dloss_dW1 = dloss_dx2.T @ dx2_dW1\n",
    "dloss_db0 = ((dloss_dx2 @ dx2_dl1 @ dl1_dx1).T).sum(axis=1).reshape(-1,1)\n",
    "\n",
    "dloss_db1 = (dloss_dx2.T).sum(axis=1).reshape(-1,1)\n",
    "\n",
    "print(dloss_dx2.shape , dx2_dl1.shape)\n",
    "\n",
    "\n",
    "#seems to work!\n",
    "\n",
    "print(\"W1\", W1.shape)\n",
    "print(\"dloss_dW1\", dloss_dW1.shape)\n",
    "\n",
    "print(\"W0\", W0.shape)\n",
    "print(\"dloss_dW0\", dloss_dW0.shape)\n",
    "\n",
    "print(\"b0\", b0.shape)\n",
    "print(\"dloss_db0\", dloss_db0.shape)\n",
    "\n",
    "print(\"b1\", b1.shape)\n",
    "print(\"dloss_db1\", dloss_db1.shape)\n",
    "\n",
    "'''\n",
    "W0 = W0 - dloss_dW0 * lr\n",
    "W1 = W1 - dloss_dW1 * lr\n",
    "b0 = b0 - dloss_db0 * lr\n",
    "b1 = b1 - dloss_db1 * lr\n",
    "'''\n",
    "\n",
    "#shapes seem to be reasonable"
   ]
  },
  {
   "cell_type": "code",
   "execution_count": 118,
   "metadata": {},
   "outputs": [
    {
     "data": {
      "text/plain": [
       "array([[0.13499824, 0.12882983, 0.13052086],\n",
       "       [0.17046746, 0.23383489, 0.20134871]])"
      ]
     },
     "execution_count": 118,
     "metadata": {},
     "output_type": "execute_result"
    }
   ],
   "source": [
    "dloss_db1"
   ]
  },
  {
   "cell_type": "code",
   "execution_count": 121,
   "metadata": {},
   "outputs": [
    {
     "data": {
      "text/plain": [
       "(2, 1)"
      ]
     },
     "execution_count": 121,
     "metadata": {},
     "output_type": "execute_result"
    }
   ],
   "source": [
    "dloss_db1.sum(axis=1).reshape(-1,1).shape"
   ]
  },
  {
   "cell_type": "code",
   "execution_count": 105,
   "metadata": {},
   "outputs": [
    {
     "data": {
      "text/plain": [
       "(1, 8)"
      ]
     },
     "execution_count": 105,
     "metadata": {},
     "output_type": "execute_result"
    }
   ],
   "source": [
    "(dx1_dW0.l1T).shape"
   ]
  },
  {
   "cell_type": "code",
   "execution_count": 116,
   "metadata": {},
   "outputs": [
    {
     "data": {
      "text/plain": [
       "(3, 2)"
      ]
     },
     "execution_count": 116,
     "metadata": {},
     "output_type": "execute_result"
    }
   ],
   "source": [
    "dloss_dx2.shape"
   ]
  },
  {
   "cell_type": "code",
   "execution_count": null,
   "metadata": {},
   "outputs": [],
   "source": []
  }
 ],
 "metadata": {
  "kernelspec": {
   "display_name": "Python 3",
   "language": "python",
   "name": "python3"
  },
  "language_info": {
   "codemirror_mode": {
    "name": "ipython",
    "version": 3
   },
   "file_extension": ".py",
   "mimetype": "text/x-python",
   "name": "python",
   "nbconvert_exporter": "python",
   "pygments_lexer": "ipython3",
   "version": "3.8.5"
  }
 },
 "nbformat": 4,
 "nbformat_minor": 4
}
