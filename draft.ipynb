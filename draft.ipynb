{
 "cells": [
  {
   "cell_type": "markdown",
   "metadata": {},
   "source": [
    "# A small neural network that predicts whether float is > 0. Only using numpy & pyplot. Which is actually quite a lot. \n",
    "# I started from math on paper so a lot of stuff is inefficient. Like column vectors."
   ]
  },
  {
   "cell_type": "code",
   "execution_count": 1825,
   "metadata": {},
   "outputs": [],
   "source": [
    "import numpy as np\n",
    "import matplotlib.pyplot as plt\n",
    "np.set_printoptions(suppress=True)"
   ]
  },
  {
   "cell_type": "markdown",
   "metadata": {},
   "source": [
    "# Let's define useful stuff & check it."
   ]
  },
  {
   "cell_type": "code",
   "execution_count": 1794,
   "metadata": {},
   "outputs": [],
   "source": [
    "#uniformly random normalised matrix for weights, biases & tests;\n",
    "def unm(m, n):\n",
    "    matrix = np.random.uniform(-3, 3, size=(m,n))\n",
    "    return matrix #/ np.sqrt(m*n)"
   ]
  },
  {
   "cell_type": "code",
   "execution_count": 133,
   "metadata": {
    "scrolled": true
   },
   "outputs": [
    {
     "data": {
      "image/png": "[encoded data removed]",
      "text/plain": [
       "<Figure size 432x288 with 1 Axes>"
      ]
     },
     "metadata": {
      "needs_background": "light"
     },
     "output_type": "display_data"
    }
   ],
   "source": [
    "plt.imshow(unm(8, 32))\n",
    "plt.show()"
   ]
  },
  {
   "cell_type": "code",
   "execution_count": 428,
   "metadata": {},
   "outputs": [
    {
     "data": {
      "image/png": "[encoded data removed]",
      "text/plain": [
       "<Figure size 432x288 with 1 Axes>"
      ]
     },
     "metadata": {
      "needs_background": "light"
     },
     "output_type": "display_data"
    }
   ],
   "source": [
    "#for hidden layer activation\n",
    "relu = lambda x: np.maximum(x, 0.)\n",
    "\n",
    "x = np.linspace(-1, 1, 64)\n",
    "plt.plot(x, relu(x))\n",
    "plt.show()"
   ]
  },
  {
   "cell_type": "code",
   "execution_count": 246,
   "metadata": {},
   "outputs": [],
   "source": [
    "#for last layer activation\n",
    "def softmax(x):\n",
    "    exps = np.exp(x - np.max(x))\n",
    "    return exps / np.sum(exps)"
   ]
  },
  {
   "cell_type": "code",
   "execution_count": 247,
   "metadata": {
    "scrolled": false
   },
   "outputs": [
    {
     "data": {
      "image/png": "[encoded data removed]",
      "text/plain": [
       "<Figure size 432x288 with 1 Axes>"
      ]
     },
     "metadata": {
      "needs_background": "light"
     },
     "output_type": "display_data"
    },
    {
     "data": {
      "image/png": "[encoded data removed]",
      "text/plain": [
       "<Figure size 432x288 with 1 Axes>"
      ]
     },
     "metadata": {
      "needs_background": "light"
     },
     "output_type": "display_data"
    },
    {
     "name": "stdout",
     "output_type": "stream",
     "text": [
      "sum(softmax(x)) =  1.0\n",
      "nice!\n"
     ]
    }
   ],
   "source": [
    "x = unm(8, 1)\n",
    "plt.imshow(x.T)\n",
    "plt.show()\n",
    "\n",
    "plt.imshow(softmax(x.T))\n",
    "plt.show()\n",
    "\n",
    "#it's good if sum is ~1.0;\n",
    "print(\"sum(softmax(x)) = \", float(sum(softmax(x))))\n",
    "print(\"nice!\")"
   ]
  },
  {
   "cell_type": "code",
   "execution_count": 248,
   "metadata": {
    "scrolled": true
   },
   "outputs": [
    {
     "name": "stdout",
     "output_type": "stream",
     "text": [
      "[[ 0.18857642 -0.07648703  0.32152286]\n",
      " [ 0.09134618 -0.23759772 -0.27932191]]\n"
     ]
    },
    {
     "data": {
      "text/plain": [
       "array([[0.52428843, 0.54019078, 0.64584955],\n",
       "       [0.47571157, 0.45980922, 0.35415045]])"
      ]
     },
     "execution_count": 248,
     "metadata": {},
     "output_type": "execute_result"
    }
   ],
   "source": [
    "#so it would work well with a whole batch\n",
    "def matrix_softmax(m):\n",
    "    return np.apply_along_axis(softmax, 0, m)\n",
    "\n",
    "t = unm(2,3)\n",
    "print(t)\n",
    "matrix_softmax(t)"
   ]
  },
  {
   "cell_type": "code",
   "execution_count": 431,
   "metadata": {},
   "outputs": [
    {
     "data": {
      "image/png": "[encoded data removed]",
      "text/plain": [
       "<Figure size 432x288 with 2 Axes>"
      ]
     },
     "metadata": {
      "needs_background": "light"
     },
     "output_type": "display_data"
    }
   ],
   "source": [
    "#returns diagonal matrix with entries from column vector v;\n",
    "#there's actually no need to do this;\n",
    "def dm(v):\n",
    "    l = len(v)\n",
    "    m = np.zeros([l, l])\n",
    "    np.fill_diagonal(m, v)\n",
    "    return m\n",
    "\n",
    "v = unm(8,1)\n",
    "plt.subplot(1,2,1)\n",
    "plt.imshow(v)\n",
    "plt.subplot(1,2,2)\n",
    "plt.imshow(dm(v))\n",
    "plt.tight_layout()"
   ]
  },
  {
   "cell_type": "markdown",
   "metadata": {},
   "source": [
    "# Stuff's ready - let's do a draft."
   ]
  },
  {
   "cell_type": "code",
   "execution_count": 1795,
   "metadata": {},
   "outputs": [
    {
     "name": "stdout",
     "output_type": "stream",
     "text": [
      "W0 (8, 1)\n",
      "(1, 3) (3, 2) (2, 8) (8, 8)\n",
      "Shapes work:\n",
      "W1 (2, 8)\n",
      "dloss_dW1 (2, 8)\n",
      "W0 (8, 1)\n",
      "dloss_dW0 (8, 1)\n",
      "b0 (8, 1)\n",
      "dloss_db0 (8, 1)\n",
      "b1 (2, 1)\n",
      "dloss_db1 (2, 1)\n"
     ]
    }
   ],
   "source": [
    "'''\n",
    "individual forward path takes float -1 < x < 1\n",
    "and tries to predict probability distribution of it being > 0;\n",
    "    0.5  -> [1, 0]\n",
    "    -0.7 -> [0, 1]\n",
    "       x -> [1 if (x > 0) else 0, 1 if (x < 0) else 0]\n",
    "       \n",
    "a good model would do something like:\n",
    "    0.1 -> [0.7, 0.3]\n",
    "   -0.2 -> [0.2, 0.8]\n",
    "   loss is cross entropy between [0, 1] and [0.2, 0.8];\n",
    "'''\n",
    "\n",
    "#random weight & biases\n",
    "W0 = unm(8, 1)\n",
    "b0 = unm(8, 1)\n",
    "W1 = unm(2, 8)\n",
    "b1 = unm(2, 1)\n",
    "\n",
    "\n",
    "#layers are x before activation and l after\n",
    "#input = x0\n",
    "x0 = np.array([[0.5],[5],[3]]).T\n",
    "\n",
    "#hidden layer\n",
    "x1 = x0 * W0 + b0\n",
    "l1 = relu(x1)\n",
    "\n",
    "#l2 is output\n",
    "x2 = W1 @ l1 + b1\n",
    "l2 = softmax(x2)\n",
    "\n",
    "\n",
    "dloss_dx2 = (l2 - np.zeros(l2.shape)).T\n",
    "\n",
    "#jacobians for computing 4 useful gradients;\n",
    "dx2_dl1 = W1\n",
    "dl1_dx1 = dm(l1>0)\n",
    "dx1_dW0 = x0\n",
    "dx2_dW1 = (l1.T)\n",
    "\n",
    "#chain rule for jacobians produces gradients;\n",
    "#these 4 will be used in SGD;\n",
    "#but like any enterprise, when under a new management, \n",
    "#there's always a slight duplication of efforts;\n",
    "\n",
    "\n",
    "print(\"W0\", W0.shape)\n",
    "print(dx1_dW0.shape, dloss_dx2.shape, dx2_dl1.shape, dl1_dx1.shape)\n",
    "\n",
    "\n",
    "\n",
    "dloss_dW0 =  (dx1_dW0 @ (dloss_dx2 @ dx2_dl1) @ dl1_dx1).T\n",
    "\n",
    "\n",
    "dloss_dW1 = dloss_dx2.T @ dx2_dW1\n",
    "dloss_db0 = ((dloss_dx2 @ dx2_dl1 @ dl1_dx1).T).sum(axis=1).reshape(-1,1)\n",
    "\n",
    "dloss_db1 = (dloss_dx2.T).sum(axis=1).reshape(-1,1)\n",
    "\n",
    "\n",
    "#seems to work!\n",
    "print(\"Shapes work:\")\n",
    "\n",
    "print(\"W1\", W1.shape)\n",
    "print(\"dloss_dW1\", dloss_dW1.shape)\n",
    "\n",
    "print(\"W0\", W0.shape)\n",
    "print(\"dloss_dW0\", dloss_dW0.shape)\n",
    "\n",
    "print(\"b0\", b0.shape)\n",
    "print(\"dloss_db0\", dloss_db0.shape)\n",
    "\n",
    "print(\"b1\", b1.shape)\n",
    "print(\"dloss_db1\", dloss_db1.shape)"
   ]
  },
  {
   "cell_type": "code",
   "execution_count": 747,
   "metadata": {},
   "outputs": [
    {
     "data": {
      "text/plain": [
       "(2, 8)"
      ]
     },
     "execution_count": 747,
     "metadata": {},
     "output_type": "execute_result"
    }
   ],
   "source": [
    "dx2_dl1.shape"
   ]
  },
  {
   "cell_type": "markdown",
   "metadata": {},
   "source": [
    "# Let's write a function that returns gradients."
   ]
  },
  {
   "cell_type": "code",
   "execution_count": 1751,
   "metadata": {},
   "outputs": [],
   "source": [
    "def grads(train, labels, W0, W1, b0, b1):\n",
    "    \n",
    "    '''\n",
    "    -> dloss_dW0, dloss_dW1, dloss_db0, dloss_db1\n",
    "    \n",
    "    The vagones of the row vector train (np.array) are floats.\n",
    "    Each one of them is a training example. \n",
    "    And has a corresponding lable in labels.\n",
    "    In my particular case each lables[i] is a column [1, 0] if train[i] > 0,\n",
    "    and a column [0, 1] otherwise.\n",
    "    The length of train is the batch size.\n",
    "    W & b are weights & biases.\n",
    "    Returns gradients of W & b.\n",
    "    '''\n",
    "    x0 = train\n",
    "\n",
    "    x1 = W0 @ x0 + b0\n",
    "    l1 = relu(x1)\n",
    "\n",
    "    x2 = W1 @ l1 + b1\n",
    "    l2 = softmax(x2)\n",
    "\n",
    "    dloss_dx2 = (l2 - labels).T\n",
    "    \n",
    "    dx2_dl1 = W1\n",
    "    dl1_dx1 = dm(l1>0)\n",
    "    dx1_dW0 = x0\n",
    "    dx2_dW1 = (l1.T)\n",
    "    \n",
    "    #this is definately wrong; i have no idea why it works so well;\n",
    "    #dloss_dW0 =   (dx1_dW0 @ (dloss_dx2 @ dx2_dl1) @ dl1_dx1).T\n",
    "    dloss_dW0 = ((dloss_dx2 @ dx2_dl1) @ dl1_dx1).T @ dx1_dW0\n",
    "    dloss_dW1 = dloss_dx2.T @ dx2_dW1\n",
    "    dloss_db0 = ((dloss_dx2 @ dx2_dl1 @ dl1_dx1).T).sum(axis=1).reshape(-1,1)\n",
    "    dloss_db1 = (dloss_dx2.T).sum(axis=1).reshape(-1,1)\n",
    "\n",
    "    return (dloss_dW0, dloss_dW1, dloss_db0, dloss_db1)"
   ]
  },
  {
   "cell_type": "code",
   "execution_count": 1005,
   "metadata": {},
   "outputs": [],
   "source": [
    "#generate smol data;\n",
    "small_train = unm(1, 10)\n",
    "small_lables = np.array([np.array([1, 0]) if el > 0 else np.array([0, 1]) for el in small_train[0]]).T"
   ]
  },
  {
   "cell_type": "code",
   "execution_count": 740,
   "metadata": {
    "scrolled": false
   },
   "outputs": [
    {
     "name": "stdout",
     "output_type": "stream",
     "text": [
      "Train:\n"
     ]
    },
    {
     "data": {
      "image/png": "[encoded data removed]",
      "text/plain": [
       "<Figure size 432x288 with 1 Axes>"
      ]
     },
     "metadata": {
      "needs_background": "light"
     },
     "output_type": "display_data"
    },
    {
     "name": "stdout",
     "output_type": "stream",
     "text": [
      "Lables:\n"
     ]
    },
    {
     "data": {
      "image/png": "[encoded data removed]",
      "text/plain": [
       "<Figure size 432x288 with 1 Axes>"
      ]
     },
     "metadata": {
      "needs_background": "light"
     },
     "output_type": "display_data"
    },
    {
     "name": "stdout",
     "output_type": "stream",
     "text": [
      "Very nice!\n",
      "We get pure hot, where it used to be hotter than 0.\n",
      "And super chill, where it used to be < 0.\n"
     ]
    }
   ],
   "source": [
    "#let's check how reasonable the lables are;\n",
    "#we don't do these things because they are easy;\n",
    "#we choose to go to the moon because it's hard;\n",
    "\n",
    "plt.imshow(small_train)\n",
    "plt.axis('off')\n",
    "print(\"Train:\")\n",
    "plt.show()\n",
    "\n",
    "plt.axis('off')\n",
    "check_lables = np.array([(small_lables.T[i][0] == 1) + 0. for i in range(10)])\n",
    "plt.imshow(check_lables.reshape(1, 10))\n",
    "print(\"Lables:\")\n",
    "plt.show()\n",
    "\n",
    "print(\"Very nice!\\nWe get pure hot, where it used to be hotter than 0.\\nAnd super chill, where it used to be < 0.\")"
   ]
  },
  {
   "cell_type": "code",
   "execution_count": 1043,
   "metadata": {
    "collapsed": true
   },
   "outputs": [
    {
     "data": {
      "text/plain": [
       "(array([[ 0.04737542],\n",
       "        [-0.18419327],\n",
       "        [ 0.12063817],\n",
       "        [ 0.03853042],\n",
       "        [ 0.        ],\n",
       "        [ 0.20847531],\n",
       "        [-0.27341949],\n",
       "        [ 0.17882343]]),\n",
       " array([[ 0.00842655, -0.71595386, -0.10607397, -0.07302928, -0.18372525,\n",
       "          0.        , -0.54286127,  0.        ],\n",
       "        [-0.13484052, -1.72745437, -0.00607026, -0.63888012, -1.09891062,\n",
       "          0.        , -1.91188383,  0.        ]]),\n",
       " array([[-0.88639716],\n",
       "        [ 0.79532901],\n",
       "        [-0.97235857],\n",
       "        [ 0.71471972],\n",
       "        [ 0.        ],\n",
       "        [-0.89730669],\n",
       "        [ 1.37851481],\n",
       "        [-1.31554135]]),\n",
       " array([[-2.35505523],\n",
       "        [-6.64494477]]))"
      ]
     },
     "execution_count": 1043,
     "metadata": {},
     "output_type": "execute_result"
    }
   ],
   "source": [
    "W0 = unm(8, 1)\n",
    "b0 = unm(8, 1)\n",
    "W1 = unm(2, 8)\n",
    "b1 = unm(2, 1)\n",
    "\n",
    "grads(small_train, small_lables, W0, W1, b0, b1)"
   ]
  },
  {
   "cell_type": "code",
   "execution_count": 1028,
   "metadata": {},
   "outputs": [],
   "source": [
    "#generating a lot of data\n",
    "def data(bs):\n",
    "    small_train = unm(1, bs)\n",
    "    small_lables = np.array([np.array([1, 0]) if el > 0 else np.array([0, 1]) for el in small_train[0]]).T\n",
    "    return (small_train, small_lables)"
   ]
  },
  {
   "cell_type": "markdown",
   "metadata": {},
   "source": [
    "# We are ready for training!"
   ]
  },
  {
   "cell_type": "code",
   "execution_count": 1979,
   "metadata": {},
   "outputs": [],
   "source": [
    "#let's do data for 5 epoches with 256 batch size\n",
    "examples = [data(512) for _ in range(5)]"
   ]
  },
  {
   "cell_type": "code",
   "execution_count": 2024,
   "metadata": {
    "scrolled": true
   },
   "outputs": [
    {
     "data": {
      "text/plain": [
       "[<matplotlib.lines.Line2D at 0x7f4d54685d30>]"
      ]
     },
     "execution_count": 2024,
     "metadata": {},
     "output_type": "execute_result"
    },
    {
     "data": {
      "image/png": "[encoded data removed]",
      "text/plain": [
       "<Figure size 432x288 with 1 Axes>"
      ]
     },
     "metadata": {
      "needs_background": "light"
     },
     "output_type": "display_data"
    }
   ],
   "source": [
    "#random initial parameters\n",
    "W0 = unm(8, 1)\n",
    "b0 = unm(8, 1)\n",
    "W1 = unm(2, 8)\n",
    "b1 = unm(2, 1)\n",
    "\n",
    "#training loop\n",
    "lr = 0.01\n",
    "for batch in examples:\n",
    "    x, y = batch\n",
    "    #SGD\n",
    "    dloss_dW0, dloss_dW1, dloss_db0, dloss_db1 = grads(x, y, W0, W1, b0, b1)\n",
    "    W0 = W0 - dloss_dW0 * lr\n",
    "    W1 = W1 - dloss_dW1 * lr\n",
    "    b0 = b0 - dloss_db0 * m  lr\n",
    "    b1 = b1 - dloss_db1 * lr\n",
    "    \n",
    "#works like a good chap, doesn't it?\n",
    "\n",
    "\n",
    "x0 = data(16)[0]\n",
    "x1 = W0 @ x0 + b0\n",
    "l1 = relu(x1)\n",
    "\n",
    "x2 = W1 @ l1 + b1\n",
    "l2 = matrix_softmax(x2)\n",
    "\n",
    "plt.plot(x0.T, 'go')\n",
    "plt.plot([round((l2.T)[i][0], 4) for i in range(16)], 'ro')\n",
    "plt.plot([0 for _ in range(16)], 'k')\n",
    "plt.plot(sign(x0.T), 'b')"
   ]
  },
  {
   "cell_type": "code",
   "execution_count": 1811,
   "metadata": {},
   "outputs": [
    {
     "data": {
      "text/plain": [
       "array([[ 0.4],\n",
       "       [-0.5],\n",
       "       [-0.6]])"
      ]
     },
     "execution_count": 1811,
     "metadata": {},
     "output_type": "execute_result"
    }
   ],
   "source": [
    "np.array([[0.4], [-0.5], [-0.6]])"
   ]
  },
  {
   "cell_type": "code",
   "execution_count": 1850,
   "metadata": {},
   "outputs": [
    {
     "data": {
      "text/plain": [
       "array([[0.00391369, 0.84303783, 0.99972817, 0.99963874, 0.00066784,\n",
       "        0.00000701, 0.59121311, 0.6098459 , 0.99706756, 0.97598853,\n",
       "        0.00097833, 0.00001045, 0.00114933, 0.00029083, 0.99798111,\n",
       "        0.00054685],\n",
       "       [0.99608631, 0.15696217, 0.00027183, 0.00036126, 0.99933216,\n",
       "        0.99999299, 0.40878689, 0.3901541 , 0.00293244, 0.02401147,\n",
       "        0.99902167, 0.99998955, 0.99885067, 0.99970917, 0.00201889,\n",
       "        0.99945315]])"
      ]
     },
     "execution_count": 1850,
     "metadata": {},
     "output_type": "execute_result"
    }
   ],
   "source": [
    "x0 = data(16)[0]\n",
    "x1 = W0 @ x0 + b0\n",
    "l1 = relu(x1)\n",
    "\n",
    "x2 = W1 @ l1 + b1\n",
    "l2 = matrix_softmax(x2)\n"
   ]
  },
  {
   "cell_type": "code",
   "execution_count": 1858,
   "metadata": {},
   "outputs": [
    {
     "data": {
      "text/plain": [
       "[<matplotlib.lines.Line2D at 0x7f4d5978d7f0>]"
      ]
     },
     "execution_count": 1858,
     "metadata": {},
     "output_type": "execute_result"
    },
    {
     "data": {
      "image/png": "[encoded data removed]",
      "text/plain": [
       "<Figure size 432x288 with 1 Axes>"
      ]
     },
     "metadata": {
      "needs_background": "light"
     },
     "output_type": "display_data"
    }
   ],
   "source": [
    "plt.plot(x0.T, 'go')\n",
    "plt.plot([round((l2.T)[i][0], 4) for i in range(16)], 'ro')\n",
    "plt.plot([0 for _ in range(16)], 'k')\n",
    "plt.plot(sign(x0.T), 'b')"
   ]
  },
  {
   "cell_type": "code",
   "execution_count": 1849,
   "metadata": {
    "scrolled": true
   },
   "outputs": [
    {
     "data": {
      "text/plain": [
       "[0.0, 0.0015, 0.989]"
      ]
     },
     "execution_count": 1849,
     "metadata": {},
     "output_type": "execute_result"
    }
   ],
   "source": [
    "[round((l2.T)[i][0], 4) for i in range(16)]"
   ]
  },
  {
   "cell_type": "code",
   "execution_count": 1848,
   "metadata": {},
   "outputs": [
    {
     "data": {
      "text/plain": [
       "array([[0.00000559, 0.00147993, 0.98896567],\n",
       "       [0.99999441, 0.99852007, 0.01103433]])"
      ]
     },
     "execution_count": 1848,
     "metadata": {},
     "output_type": "execute_result"
    }
   ],
   "source": [
    "l2"
   ]
  },
  {
   "cell_type": "code",
   "execution_count": 1296,
   "metadata": {},
   "outputs": [
    {
     "data": {
      "image/png": "[encoded data removed]",
      "text/plain": [
       "<Figure size 432x288 with 1 Axes>"
      ]
     },
     "metadata": {
      "needs_background": "light"
     },
     "output_type": "display_data"
    }
   ],
   "source": [
    "#works like a good chap, doesn't it?\n",
    "\n",
    "x_test = unm(16, 1)\n",
    "y_test = sign(x_test)\n",
    "\n",
    "plt.plot(x_test, 'go')\n",
    "plt.plot(y_test, 'b')\n",
    "plt.plot(pred(x_test), 'ro')\n",
    "plt.plot(np.zeros(16), 'k')\n",
    "plt.show()"
   ]
  },
  {
   "cell_type": "code",
   "execution_count": 435,
   "metadata": {},
   "outputs": [],
   "source": [
    "with open('params.npy', 'wb') as f:\n",
    "    np.save(f, W0)\n",
    "    np.save(f, W1)\n",
    "    np.save(f, b0)\n",
    "    np.save(f, b1)"
   ]
  },
  {
   "cell_type": "code",
   "execution_count": 436,
   "metadata": {},
   "outputs": [
    {
     "name": "stdout",
     "output_type": "stream",
     "text": [
      "[[3668916.04025523]\n",
      " [  -7077.90587927]\n",
      " [ -52392.3021601 ]\n",
      " [1519468.99501498]\n",
      " [4505686.9139397 ]\n",
      " [2252187.36353507]\n",
      " [1021216.52243716]\n",
      " [ -55695.07551441]] [[ 8.41444589e+01 -1.89604398e-02 -1.60080657e-01  3.61155071e+01\n",
      "   1.04514834e+02  5.34842130e+01  2.36615646e+01 -1.69471002e-01]\n",
      " [ 1.17869872e+01  9.36829521e-02  4.45891869e-01  4.71995708e+00\n",
      "   1.45254033e+01  7.29188108e+00  3.49843755e+00  4.13577007e-01]] [[14.52021492]\n",
      " [-0.6263796 ]\n",
      " [-0.72768547]\n",
      " [ 6.0878918 ]\n",
      " [17.96760283]\n",
      " [ 9.11632139]\n",
      " [ 4.13749871]\n",
      " [-1.2425765 ]] [[6.01446369]\n",
      " [6.54551379]]\n"
     ]
    }
   ],
   "source": [
    "with open('params.npy', 'rb') as f:\n",
    "    a = np.load(f)\n",
    "    b = np.load(f)\n",
    "    c = np.load(f)\n",
    "    d = np.load(f)\n",
    "print(a, b, c, d)"
   ]
  },
  {
   "cell_type": "code",
   "execution_count": 626,
   "metadata": {},
   "outputs": [
    {
     "data": {
      "text/plain": [
       "array([[2, 4]])"
      ]
     },
     "execution_count": 626,
     "metadata": {},
     "output_type": "execute_result"
    }
   ],
   "source": [
    "x = np.array([[2, 4]])\n",
    "x"
   ]
  },
  {
   "cell_type": "code",
   "execution_count": 876,
   "metadata": {},
   "outputs": [
    {
     "data": {
      "text/plain": [
       "(2, 1)"
      ]
     },
     "execution_count": 876,
     "metadata": {},
     "output_type": "execute_result"
    }
   ],
   "source": [
    "y = np.array([[1],\n",
    "              [2]])\n",
    "y.shape"
   ]
  },
  {
   "cell_type": "code",
   "execution_count": 882,
   "metadata": {},
   "outputs": [
    {
     "data": {
      "text/plain": [
       "array([[3, 4],\n",
       "       [6, 8]])"
      ]
     },
     "execution_count": 882,
     "metadata": {},
     "output_type": "execute_result"
    }
   ],
   "source": [
    "y @ np.array([[3], [4]]).T"
   ]
  },
  {
   "cell_type": "code",
   "execution_count": 880,
   "metadata": {},
   "outputs": [
    {
     "data": {
      "text/plain": [
       "(2,)"
      ]
     },
     "execution_count": 880,
     "metadata": {},
     "output_type": "execute_result"
    }
   ],
   "source": [
    "np.array([1, 2]).shape"
   ]
  },
  {
   "cell_type": "code",
   "execution_count": 883,
   "metadata": {},
   "outputs": [
    {
     "data": {
      "text/plain": [
       "array([[3, 4]])"
      ]
     },
     "execution_count": 883,
     "metadata": {},
     "output_type": "execute_result"
    }
   ],
   "source": [
    "np.array([[3], [4]]).T"
   ]
  },
  {
   "cell_type": "code",
   "execution_count": 1823,
   "metadata": {},
   "outputs": [],
   "source": [
    "np.set_printoptions(suppress=True)"
   ]
  },
  {
   "cell_type": "code",
   "execution_count": 1698,
   "metadata": {},
   "outputs": [
    {
     "data": {
      "text/plain": [
       "array([[0.98923998, 0.88902889],\n",
       "       [0.01076002, 0.11097111]])"
      ]
     },
     "execution_count": 1698,
     "metadata": {},
     "output_type": "execute_result"
    }
   ],
   "source": [
    "W0 = unm(8, 1)\n",
    "b0 = unm(8, 1)\n",
    "W1 = unm(2, 8)\n",
    "b1 = unm(2, 1)\n",
    "\n",
    "\n",
    "\n",
    "x0 = np.array([[0.001, 0.9]])\n",
    "x1 = W0 @ x0 + b0\n",
    "l1 = relu(x1)\n",
    "\n",
    "x2 = W1 @ l1 + b1\n",
    "l2 = matrix_softmax(x2)\n",
    "l2"
   ]
  },
  {
   "cell_type": "code",
   "execution_count": 1699,
   "metadata": {},
   "outputs": [
    {
     "data": {
      "text/plain": [
       "array([[0.98923998, 0.99215094],\n",
       "       [0.01076002, 0.00784906]])"
      ]
     },
     "execution_count": 1699,
     "metadata": {},
     "output_type": "execute_result"
    }
   ],
   "source": [
    "x0 = np.array([[0.001], [-0.5]]).T\n",
    "\n",
    "x1 = W0 @ x0 + b0\n",
    "l1 = relu(x1)\n",
    "\n",
    "x2 = W1 @ l1 + b1\n",
    "l2 = matrix_softmax(x2)\n",
    "l2"
   ]
  },
  {
   "cell_type": "code",
   "execution_count": 1700,
   "metadata": {},
   "outputs": [
    {
     "data": {
      "text/plain": [
       "array([[-1.69694733],\n",
       "       [-2.44243818],\n",
       "       [ 0.3563088 ],\n",
       "       [ 2.09561408],\n",
       "       [ 2.69637464],\n",
       "       [-1.50290703],\n",
       "       [-2.71339844],\n",
       "       [ 1.85288496]])"
      ]
     },
     "execution_count": 1700,
     "metadata": {},
     "output_type": "execute_result"
    }
   ],
   "source": [
    "pred()"
   ]
  },
  {
   "cell_type": "code",
   "execution_count": 1701,
   "metadata": {},
   "outputs": [
    {
     "data": {
      "text/plain": [
       "array([[ 0.00085412, -0.4270586 ],\n",
       "       [-0.00177392,  0.88695759],\n",
       "       [-0.00200992,  1.00496139],\n",
       "       [ 0.00180135, -0.90067409],\n",
       "       [ 0.00234847, -1.17423264],\n",
       "       [-0.00207476,  1.03737989],\n",
       "       [ 0.00162073, -0.81036304],\n",
       "       [-0.00058826,  0.29412796]])"
      ]
     },
     "execution_count": 1701,
     "metadata": {},
     "output_type": "execute_result"
    }
   ],
   "source": [
    "W0 @ x0"
   ]
  },
  {
   "cell_type": "code",
   "execution_count": null,
   "metadata": {},
   "outputs": [],
   "source": []
  },
  {
   "cell_type": "code",
   "execution_count": null,
   "metadata": {},
   "outputs": [],
   "source": []
  }
 ],
 "metadata": {
  "kernelspec": {
   "display_name": "Python 3",
   "language": "python",
   "name": "python3"
  },
  "language_info": {
   "codemirror_mode": {
    "name": "ipython",
    "version": 3
   },
   "file_extension": ".py",
   "mimetype": "text/x-python",
   "name": "python",
   "nbconvert_exporter": "python",
   "pygments_lexer": "ipython3",
   "version": "3.8.5"
  }
 },
 "nbformat": 4,
 "nbformat_minor": 4
}
